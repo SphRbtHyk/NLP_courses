{
 "cells": [
  {
   "cell_type": "markdown",
   "id": "4f8e93f3",
   "metadata": {},
   "source": [
    "# Rappels de Python - Partie 1 - Variables, types et stockage des données"
   ]
  },
  {
   "cell_type": "markdown",
   "id": "3bbd93c3",
   "metadata": {},
   "source": [
    "Il s'agit d'une introduction très rapide à Python, suffisante pour passer au reste du cours.\n",
    "\n",
    "Pour aller plus loin, je vous recommande vivement de suivre le [tutoriel Python](https://docs.python.org/3/tutorial).\n",
    "\n",
    "**Prérequis** :\n",
    "- Une installation fonctionnelle de Python >= 3.8\n",
    "- Une installation fonctionnelle de la version correspondante de pip\n",
    "\n",
    "> Notez que tout au long de ce tutoriel, vous devrez utiliser l'exécutable Python correct sur votre système\n",
    "\n",
    "## Création d'un environnement virtuel et exécution de Jupyter Notebook\n",
    "\n",
    "Tous les travaux pratiques de ce cours seront réalisés à l'aide de Python et de [Jupyter](https://jupyter.org/), un environnement de développement interactif basé sur le Web.\n",
    "\n",
    "\n",
    "Pour installer Jupyter notebook, suivez les étapes suivantes dans votre terminal :\n",
    "\n",
    "0. Accédez au dossier dans lequel vous avez téléchargé le dossier prog_basics.\n",
    "\n",
    "\n",
    "1. Créez un environnement virtuel (une arborescence de répertoires autonome qui contient une installation Python pour une version particulière de Python, ainsi qu'un certain nombre de paquets supplémentaires).\n",
    "\n",
    ">```python -m venv venv```\n",
    "\n",
    "2. Activez l'environnement virtuel\n",
    ">```source venv/bin/activate```\n",
    "ou\n",
    ">```./venv/Scripts/activate```\n",
    "\n",
    "3. Installez Jupyter\n",
    "> ```pip install jupyter```\n",
    "\n",
    "4. Lancez le notebook Jupyter pour aujourd'hui\n",
    "> ```jupyter notebook lab0_introduction.ipynb```"
   ]
  },
  {
   "cell_type": "markdown",
   "id": "c22621ab",
   "metadata": {},
   "source": [
    "### Exercice : installer votre propre paquet\n",
    "Installez le paquet **numpy** (`pip install numpy`) dans votre environnement et vérifiez que l'importation fonctionne en exécutant :"
   ]
  },
  {
   "cell_type": "markdown",
   "id": "1d5f724a",
   "metadata": {
    "vscode": {
     "languageId": "plaintext"
    }
   },
   "source": [
    "## Variables\n",
    "\n",
    "Une **variable** est un nom symbolique qui permet de stocker et de manipuler des données dans la mémoire de l’ordinateur. \n",
    "\n",
    "Une variable peut contenir différents types de valeurs, et contrairement à certains autres langages, Python **n’exige pas de déclaration de type préalable** : le type est déterminé automatiquement lors de l’affectation. Le contenu d'une variable peut être écrasé par une valeur d'un autre type que le type utilisé lors de la déclaration de la variable."
   ]
  },
  {
   "cell_type": "markdown",
   "id": "45ba0159",
   "metadata": {},
   "source": [
    "**Notions de base sur les variables**:\n",
    "- Types de base : \n",
    "    - `int` (entiers, possiblement négatif) \n",
    "    - `float` (ensemble des nombres réels)\n",
    "    - `str` (chaînes de caractère) \n",
    "    - `bool` (booléen, \n",
    "    vaut 0/False ou 1/True)\n",
    "- L'affectation d'une valeur dans une variable se fait avec `=`\n",
    "- On peut obtenir le type d'une variable grâce à la fonction `type`.\n",
    "- Les conversions de type se font avec `int()`, `float()`, `str()`\n",
    "- La fonction `print` permet d'afficher le résultat à l'utilisateur\n",
    "- Les lignes commençant par `#` sont des commentaires qui sont ignorés par l'interpréteur.\n",
    "\n",
    "### Exercices\n",
    "1. Créez une variable `x` égale à 10. Faîtes un `print` de son type.\n",
    "2. Créez une variable `y` égale à 3.5. Faîtes un `print` de son type.\n",
    "3. Convertissez `y` en entier et affiche le résultat.\n",
    "4. Créez une variable `nom` contenant votre prénom et affichez-la."
   ]
  },
  {
   "cell_type": "markdown",
   "id": "c507170d",
   "metadata": {},
   "source": [
    "## Principaux opérateurs\n",
    "\n",
    "Python propose les principaux opérateurs pour la manipulation de nombre et la création d'expression logique.\n",
    "\n",
    "- Opérateurs arithmétiques : `+`, `-`, `*`, `/`, `//`, `%`, `**`\n",
    "- Opérateurs logiques : `and`, `or`, `not`\n",
    "- Opérateurs de comparaison : `==`, `!=`, `<`, `>`, `<=`, `>=`\n",
    "- Modulo : `%`\n",
    "\n",
    "### Exercices\n",
    "1. Calcule et affiche \"7 plus (3 multiplié par 2)\".\n",
    "2. Calcule la division entière et le reste de 17 par 5.\n",
    "3. Vérifie si `10` est supérieur à `5` et inférieur à `20`.\n",
    "4. Vérifie si `x` est pair en utilisant le modulo (`%`)."
   ]
  },
  {
   "cell_type": "markdown",
   "id": "c83d3b76",
   "metadata": {},
   "source": [
    "## Stockage de données\n",
    "\n",
    "⚠️ Bien maîtriser les différentes possibilités pour stocker des données en Python, c'est la **base** pour se sentir à l'aise en Python et toujours faire les choix adéquats pour la résolution de problème.\n",
    "Vu l'importance de la question, nous allons y consacrer une séance entière CM et TP sur cette question, ce TP est présenté comme une introduction. À chaque exemple, essayer de deviner ce que fait le code et exécutez le."
   ]
  },
  {
   "cell_type": "markdown",
   "id": "d2d16ef7",
   "metadata": {},
   "source": [
    "### Les listes\n",
    "Une liste est une collection ordonnée (c'est à dire que l'ordre des éléments ne va pas changer) et mutable (c'est à dire que les éléments peuvent être modifiés). Elle peut contenir en Python des éléments de types différents. Elles ont la particularité en Python d'être indexées à partir de 0. Un certain nombre de méthodes sur ces listes sont disponibles, afin **d'accéder aux différents éléments** et de **modifier les contenus des listes**."
   ]
  },
  {
   "cell_type": "code",
   "execution_count": 2,
   "id": "cf4fa2fa",
   "metadata": {},
   "outputs": [
    {
     "name": "stdout",
     "output_type": "stream",
     "text": [
      "Pouvez-vous donner les différents types des objets dans la liste ? [1, 'bonjour', 3.14, True]\n"
     ]
    }
   ],
   "source": [
    "ma_liste = [1, \"bonjour\", 3.14, True]\n",
    "\n",
    "print(\"Pouvez-vous donner les différents types des objets dans la liste ?\", ma_liste)"
   ]
  },
  {
   "cell_type": "markdown",
   "id": "c213196a",
   "metadata": {},
   "source": [
    "Récupérer un élément est fait en utilisant la notation [] en précisant l'index de l'élément souhaité. Les indexs négatifs prennent les indices à l'envers."
   ]
  },
  {
   "cell_type": "code",
   "execution_count": 3,
   "id": "5429a6ea",
   "metadata": {},
   "outputs": [
    {
     "name": "stdout",
     "output_type": "stream",
     "text": [
      "Premier élément : 1\n",
      "Dernier élément : True\n"
     ]
    }
   ],
   "source": [
    "print(\"Premier élément :\", ma_liste[0])\n",
    "print(\"Dernier élément :\", ma_liste[-1])"
   ]
  },
  {
   "cell_type": "markdown",
   "id": "a7c03f90",
   "metadata": {},
   "source": [
    "Il est aussi possible de récupérer tout un pan de liste en utilisant la notation `:` (attention, le dernier élément n'est pas pris en compte dans l'indice). Par exemple, `1:4` retourne les éléments entre l'indice 1 (donc le deuxième élément) et l'indice 3. L'indice vide à gauche indique le premier élément et à droite indique le dernier élément."
   ]
  },
  {
   "cell_type": "code",
   "execution_count": null,
   "id": "4c368233",
   "metadata": {},
   "outputs": [],
   "source": [
    "print(ma_liste[:3]) # Print the first 2 elements\n",
    "print(ma_liste[2:3]) # Print only the third element\n",
    "print(ma_liste[1:3]) # Print the second and the third element"
   ]
  },
  {
   "cell_type": "markdown",
   "id": "ada3ac40",
   "metadata": {},
   "source": [
    "La méthode `append` permet d'ajouter un élément à la liste, à chaque fois à la fin d'une liste. La méthode `pop` permet d'enlever un élément à index donné (par défaut, enlève le dernier élément seulement)."
   ]
  },
  {
   "cell_type": "code",
   "execution_count": 4,
   "id": "df94c633",
   "metadata": {},
   "outputs": [
    {
     "name": "stdout",
     "output_type": "stream",
     "text": [
      "[1, 'bonjour', 3.14, True, 4]\n",
      "[1, 'bonjour', 3.14, True]\n",
      "['bonjour', 3.14, True]\n"
     ]
    }
   ],
   "source": [
    "ma_liste.append(4)\n",
    "print(ma_liste)\n",
    "\n",
    "ma_liste.pop() # Enlève le dernier élément\n",
    "print(ma_liste)\n",
    "\n",
    "ma_liste.pop(0) # Enlève le premier élément.\n",
    "print(ma_liste) \n"
   ]
  },
  {
   "cell_type": "markdown",
   "id": "65f33fa2",
   "metadata": {},
   "source": [
    "**Exercices sur les listes**:\n",
    "1. Créez une liste qui contient les chiffres de 1 à 10.\n",
    "2. Rajoutez l'élément 4 à la fin.\n",
    "3. Imprimez les 2 premiers éléments.\n",
    "4. Supprimez le 3ème élément.\n",
    "5. Rajoutez l'élément 5 en 4ème position."
   ]
  },
  {
   "cell_type": "markdown",
   "id": "d3e6b569",
   "metadata": {},
   "source": [
    "### Les sets\n",
    "Un set est une collection NON ordonnée et sans doublon. **On s'en sert donc lorsque l'on souhaite stocker des données sans répétition, ou bien forcer l'unicité des éléments d'une liste**.\n",
    "On peut faire des opérations ensemblistes : union (|) et intersection (&). On peut aussi ajouter un élément à l'aide de la méthode `add` and `discard`.\n"
   ]
  },
  {
   "cell_type": "code",
   "execution_count": null,
   "id": "0f20253b",
   "metadata": {},
   "outputs": [],
   "source": [
    "mon_set = {1, 2, 3, 3}\n",
    "print(\"Set (pas de doublons) :\", mon_set)\n",
    "\n",
    "mon_set.add(4)\n",
    "mon_set.discard(2)\n",
    "print(\"Après modifications :\", mon_set)\n",
    "\n",
    "autre_set = {3, 4, 5}\n",
    "print(\"Union :\", mon_set | autre_set)\n",
    "print(\"Intersection :\", mon_set & autre_set)"
   ]
  },
  {
   "cell_type": "markdown",
   "id": "6649d0c9",
   "metadata": {},
   "source": [
    "**Exercices**:\n",
    "1. Créez le set `mon_set` (1, 2, 2, 3) et constatez qu'il n'y a pas de doublon.\n",
    "2. Supprimez les doublons de la liste [1, 1, 2, 2, 3] et stockez le sous la variable `sans_doublon`.\n",
    "3. Ajoutez le nombre `5` à l’ensemble.\n",
    "4. Supprimez le nombre `2` de l’ensemble.\n",
    "5. Trouvez l'intersection entre (1, 2, 2, 3) et [1, 1, 2, 2, 3]."
   ]
  },
  {
   "cell_type": "markdown",
   "id": "163ef30e",
   "metadata": {},
   "source": [
    "### Les dictionnaires\n",
    "Un dictionnaire associe des **clés à des valeurs** (mapping). Les clés sont uniques et doivent être immuables (ex: str, int, tuple).\n",
    "On peut récupérer la valeur associée à une clé à l'aide des []. Les méthodes `values` et `keys` permettent d'obtenir l'ensemble des valeurs et des clés dans le dictionnaire."
   ]
  },
  {
   "cell_type": "code",
   "execution_count": 1,
   "id": "b866bb3b",
   "metadata": {},
   "outputs": [
    {
     "name": "stdout",
     "output_type": "stream",
     "text": [
      "Dictionnaire : {'Alice': 15, 'Bob': 12, 'Chloé': 18}\n",
      "Note de Bob : 12\n",
      "Après ajout : {'Alice': 15, 'Bob': 12, 'Chloé': 18, 'David': 14}\n",
      "Après suppression : {'Bob': 12, 'Chloé': 18, 'David': 14}\n",
      "dict_keys(['Bob', 'Chloé', 'David'])\n",
      "dict_values([12, 18, 14])\n"
     ]
    }
   ],
   "source": [
    "mon_dict = {\"Alice\": 15, \"Bob\": 12, \"Chloé\": 18}\n",
    "print(\"Dictionnaire :\", mon_dict)\n",
    "print(\"Note de Bob :\", mon_dict[\"Bob\"])\n",
    "\n",
    "# Ajout / modification\n",
    "mon_dict[\"David\"] = 14\n",
    "print(\"Après ajout :\", mon_dict)\n",
    "\n",
    "# Suppression\n",
    "del mon_dict[\"Alice\"]\n",
    "print(\"Après suppression :\", mon_dict)\n",
    "\n",
    "# Obtention de l'ensemble des clés\n",
    "print(mon_dict.keys())\n",
    "\n",
    "# Obtention de l'ensemble des valeurs\n",
    "print(mon_dict.values())"
   ]
  },
  {
   "cell_type": "markdown",
   "id": "80062419",
   "metadata": {},
   "source": [
    "**Exercices**:\n",
    "1. Démontrez qu'une liste ne peut pas être une clé valide d'un dictionnaire.\n",
    "2. Créez un dictionnaire qui associe à 3 pays une capitale.\n",
    "4. Imprimez les trois pays.\n",
    "5. Imprimez les trois capitales.\n",
    "6. Associez \"Melbourne\" à l'Australie.\n",
    "7. Éditez la valeur pour l'Australie en Canberra.\n",
    "8. Supprimez la valeur pour l'Australie."
   ]
  },
  {
   "cell_type": "markdown",
   "id": "101afeb1",
   "metadata": {},
   "source": [
    "# Rappels de Python - Partie 2 - Structures de contrôles et gestion des erreurs"
   ]
  },
  {
   "cell_type": "markdown",
   "id": "103ea83a",
   "metadata": {},
   "source": [
    "L'une des caractéristiques principales de Python est que l'indentation conditionne l'exécution du code, et **ne relève pas uniquement de l'esthétique**.\n",
    "Contrairement à d’autres langages qui utilisent des accolades {} ou des mots-clés pour délimiter les blocs, Python se base uniquement sur l’indentation (espaces ou tabulations) pour déterminer quels instructions appartiennent à quel bloc.\n",
    "\n",
    "Un bloc de code, caractérisé par une indentation d'une `tab` ou de `4 espaces`, représente une séquence d'instruction qui doivent être exécutées ensemble.\n",
    "\n",
    "- les structures conditionnelles (`if, elif, else`)\n",
    "- les boucles (`for, while`)\n",
    "- les définitions de fonctions (`def`) et de classes (`class`)\n",
    "\n",
    "Toute erreur d’alignement (trop d’espaces, pas assez, mélange d’espaces et de tabulations) génère une `IndentationError`, et le programme ne s’exécute pas.\n"
   ]
  },
  {
   "cell_type": "markdown",
   "id": "05a825f1",
   "metadata": {},
   "source": [
    "### Les structures `if` / `elif` / `else`\n",
    "\n",
    "Les structures conditionnelles permettent d’exécuter un bloc de code uniquement si une **condition est vraie**. \n",
    "Cette condition permet de filtrer si jamais l'interpréteur doit \"rentrer dans la condition\", et exécuter le code qui y est indenté.\n",
    "\n",
    "```python\n",
    "if condition:\n",
    "    # bloc exécuté si condition True\n",
    "elif autre_condition:\n",
    "    # bloc exécuté si autre_condition True\n",
    "else:\n",
    "    # bloc exécuté si aucune condition n'est vraie\n",
    "```\n",
    "\n",
    "**Exercices**:\n",
    "\n",
    "1. Générez une erreur `IndentationError` en réalisant la mauvaise indentation de votre code dans une condition `if`/`else`.\n",
    "2. Réalisez un bloc de condition qui `print` \"Enfant\" si la variable `age` est inférieure à 12, \"Adolescent\" si l'âge est entre 12 et 18, et Adulte sinon.\n",
    "3. Réalisez un bloc de condition qui `print` \"Pair\" si la variable `x` est divisible par 2, sinon \"Impair\"."
   ]
  },
  {
   "cell_type": "code",
   "execution_count": 2,
   "id": "c9a47559",
   "metadata": {},
   "outputs": [],
   "source": [
    "# Votre code ici"
   ]
  },
  {
   "cell_type": "markdown",
   "id": "e3473fba",
   "metadata": {},
   "source": [
    "### Les structures de boucle\n",
    "\n",
    "#### La structure `for`\n",
    "La boucle for permet d’itérer sur une séquence (liste, chaîne, range, etc.), appelé en Python `Iterable`, et d’exécuter un bloc de code pour chaque élément de l'itération.\n",
    "\n",
    "```python\n",
    "for i in range(5):\n",
    "    print(i)  # affiche 0, 1, 2, 3, 4\n",
    "```\n",
    "\n",
    "##### Exercices\n",
    "1. Affichez tous les nombres pairs entre 1 et 20 à l'aide d'une boucle `for`.\n",
    "2. Calculez la somme des éléments entre 0 et 100 (sans utiliser `sum` ou la formule de Gauss).\n",
    "3. Calculez la somme des carrés des nombres de 1 à 20.\n",
    "4. Étant donné une liste de nombres `[3, 8, 12, 5, 7, 20]`, créez une nouvelle liste contenant seulement les nombres supérieurs à 10."
   ]
  },
  {
   "cell_type": "code",
   "execution_count": null,
   "id": "477b5f6f",
   "metadata": {},
   "outputs": [],
   "source": [
    "# Votre code ici"
   ]
  },
  {
   "cell_type": "markdown",
   "id": "811f1e54",
   "metadata": {},
   "source": [
    "#### La structure `while`\n",
    "\n",
    "La boucle while répète un bloc tant qu’une condition est vraie.\n",
    "\n",
    "⚠️ **Une boucle `while` peut être infinie, il faut bien s'assurer que la conidition de sortie soit réalisable.**\n",
    "\n",
    "```\n",
    "i = 0\n",
    "while i < 5:\n",
    "    print(i)\n",
    "    i += 1\n",
    "```\n",
    "\n",
    "Deux instructions permettent d'affecter le comportement de la boucle `while`:\n",
    "- `break` : quitte immédiatement la boucle.\n",
    "- `continue` : passe à l’itération suivante, en sautant le reste du bloc. \n",
    "\n",
    "##### Exercices\n",
    "1. À l'aide d'une boucle `while`, faire un `print` de tous les éléments entre 1 et 10.\n",
    "2. Avec une boucle `while` et le mot clé `continue`, affichez les nombres de 1 à 20, mais sautez tous les multiples de 3.\n",
    "3. La fonction `input` permet de demander une entrée à l'utilisateur, qui sera stocké dans une variable. Le retour de l'utilisateur est stocké dans la variable qui est mise dans le retour de `input` (par exemple, `input = input(\"Donne moi un chiffre\")` stockera dans `input` la valeur donnée par l'utilisateur).\n",
    "Réalisez un bloc de code demandant itérativement une valeur à l'utilisateur à l'aide d'une boucle `while`, et sortez de la boucle lorsque la somme des valeurs entrées dépasse 100.\n",
    "4. Demandez des nombres à l’utilisateur jusqu’à ce qu’il saisisse 0, puis à l'aide de `continue`, affichez uniquement les nombres pairs."
   ]
  },
  {
   "cell_type": "markdown",
   "id": "5541f4da",
   "metadata": {},
   "source": [
    "## La gestion des erreurs\n",
    "\n",
    "En Python, il est fréquent que certaines instructions puissent provoquer des erreurs (ou exceptions) lors de l’exécution du programme. Ces erreurs peuvent provenir, par exemple :\n",
    "- de la division par zéro (`ZeroDivisionError`)\n",
    "- de l’accès à un indice inexistant dans une liste (`IndexError`)\n",
    "- de la conversion d’une chaîne en entier qui n’est pas un nombre (`ValueError`)\n",
    "\n",
    "Pour éviter que le programme s’arrête brutalement, Python propose des mécanismes pour capturer et gérer ces erreurs.\n",
    "\n",
    "La syntaxe standard consiste à utiliser un bloc `try/except`:\n",
    "\n",
    "```\n",
    "try:\n",
    "    # bloc de code à surveiller\n",
    "\n",
    "    x = int(input(\"Saisis un nombre : \"))\n",
    "    resultat = 10 / x\n",
    "\n",
    "except ZeroDivisionError:\n",
    "    print(\"Erreur : division par zéro !\")\n",
    "    \n",
    "except ValueError:\n",
    "    print(\"Erreur : saisie invalide, ce n'est pas un nombre !\")\n",
    "```\n",
    "\n",
    "Dans le cas où le type d'erreur n'est pas clair, on peut utiliser l'expression fourre-tout `Exception`.\n",
    "\n",
    "\n",
    "#### Exercices\n",
    "1. Créez une liste de 5 éléments et demande à l’utilisateur un indice afin d'afficher le chiffre correspondant dans la liste, en ajoutant une gestion d'erreur dans le cas où l'indice ne correspond pas à un élément dans la liste.\n",
    "2. Demandez un nombre à l’utilisateur et le convertir en entier. Si la saisie est incorrecte, affiche un message d’erreur et redemandez à l'utilisateur en lui laissant 3 tentatives. Sinon affichez \"Nombre de tentatives dépassées\"."
   ]
  },
  {
   "cell_type": "markdown",
   "id": "6d721a5b",
   "metadata": {},
   "source": [
    "# Partie 3 : Fonctions et première résolution de problèmes"
   ]
  },
  {
   "cell_type": "markdown",
   "id": "6487af40",
   "metadata": {},
   "source": [
    "## La fonction range\n",
    "La fonction `range()` est très utilisée en Python pour générer des séquences de nombres.\n",
    "Elle est particulièrement utile dans les boucles `for`.\n",
    "\n",
    "Elle peut s'utiliser de trois manières :\n",
    "\n",
    "- `range(stop)` – génère les nombres de 0 à `stop-1`\n",
    "- `range(start, stop)` – génère les nombres de `start` à `stop-1` \n",
    "(⚠️ comme pour le slicing, le stop retourne à l'indice stop-1)\n",
    "- `range(start, stop, step)` – génère les nombres de `start` à `stop-1` en ajoutant `step` à chaque itération"
   ]
  },
  {
   "cell_type": "code",
   "execution_count": null,
   "id": "4321300e",
   "metadata": {},
   "outputs": [
    {
     "name": "stdout",
     "output_type": "stream",
     "text": [
      "[0, 1, 2, 3, 4]\n",
      "[2, 3, 4]\n",
      "[1, 3]\n"
     ]
    }
   ],
   "source": [
    "print(list(range(5))) # Tous les nombres entre 0 et 4\n",
    "print(list(range(2, 5))) # Tous les nombres entre 2 et 4\n",
    "print(list(range(1, 4, 2))) # Tous les nombres entre 1 et 4 par pas de 2"
   ]
  },
  {
   "cell_type": "markdown",
   "id": "22e87c01",
   "metadata": {},
   "source": [
    "## Compréhension de liste (list comprehension)\n",
    "\n",
    "Une **compréhension de liste** est une façon concise de créer une liste à partir d'un itérable.\n",
    "\n",
    "Sa syntaxe générale est :\n",
    "     `[expression for élément in itérable]`\n",
    "itérable peut être un dictionnaire, une liste, un set ...\n",
    "\n",
    "Cela permet d'écrire du code plus court et plus lisible plutôt que de devoir passer systématiquement par une boucle `for`."
   ]
  },
  {
   "cell_type": "code",
   "execution_count": 3,
   "id": "35d79998",
   "metadata": {},
   "outputs": [
    {
     "name": "stdout",
     "output_type": "stream",
     "text": [
      "[0, 1, 8, 27, 64, 125, 216, 343, 512, 729]\n",
      "[0, 1, 8, 27, 64, 125, 216, 343, 512, 729]\n",
      "['CHAT', 'CHIEN', 'LAPIN']\n",
      "[0, 2, 4, 6, 8, 10, 12, 14, 16, 18]\n",
      "[[1, 3], [2, 6], [3, 9], [4, 12], [5, 15]]\n"
     ]
    }
   ],
   "source": [
    "# Exemple 1 : Création d'une liste des carrés de 0 à 9\n",
    "cubes = [x**3 for x in range(10)]\n",
    "print(cubes)\n",
    "\n",
    "# Équivalent sans compréhension de liste :\n",
    "cubes_equiv = []\n",
    "for x in range(10):\n",
    "    cubes_equiv.append(x**3)\n",
    "print(cubes_equiv)\n",
    "\n",
    "# ---------------------------------------------------\n",
    "# Exemple 2 : Transformer tous les mots en majuscules\n",
    "mots = [\"chat\", \"chien\", \"lapin\"]\n",
    "majuscules = [mot.upper() for mot in mots]\n",
    "# ⚠️ Les objets de type str possèdent de nombreuses méthodes pour les transformer, nous en verrons au fur et à mesure des TP.\n",
    "print(majuscules)\n",
    "\n",
    "# ---------------------------------------------------\n",
    "# Exemple 3 : Filtrer avec une condition\n",
    "pairs = [x for x in range(20) if x % 2 == 0]\n",
    "print(pairs)\n",
    "\n",
    "# ---------------------------------------------------\n",
    "#  Exemple 4 : Liste de listes (imbriquées)\n",
    "table_de_3 = [[i, i*3] for i in range(1, 6)]\n",
    "print(table_de_3)"
   ]
  },
  {
   "cell_type": "markdown",
   "id": "281f5397",
   "metadata": {},
   "source": [
    "**Exercices**:\n",
    "1. Ré-écrivez la boucle suivante en compréhension de liste.\n",
    "```\n",
    "liste = [2, 3, 4]\n",
    "for ix in liste:\n",
    "    print(ix)\n",
    "```\n",
    "2. Filtrer tous les nombres divisibles par trois entre 1 et 40."
   ]
  },
  {
   "cell_type": "markdown",
   "id": "72c7587a",
   "metadata": {},
   "source": [
    "## La fonction `enumerate`\n",
    "La fonction `enumerate()` permet de parcourir une liste en obtenant à la fois:\n",
    " - L'indice de l'élément courant\n",
    " - La valeur de l'élément\n",
    "Il est possible de décaler la valeur des indices retournés grâce à l'argument `start`.\n"
   ]
  },
  {
   "cell_type": "code",
   "execution_count": 11,
   "id": "673cca27",
   "metadata": {},
   "outputs": [
    {
     "name": "stdout",
     "output_type": "stream",
     "text": [
      "Numéro 0 : pomme\n",
      "Numéro 1 : banane\n",
      "Numéro 2 : cerise\n",
      "Numéro 2 : pomme\n",
      "Numéro 3 : banane\n",
      "Numéro 4 : cerise\n"
     ]
    }
   ],
   "source": [
    "fruits = [\"pomme\", \"banane\", \"cerise\"]\n",
    "\n",
    "for index, fruit in enumerate(fruits):\n",
    "    print(f\"Numéro {index} : {fruit}\")\n",
    "\n",
    "for index, fruit in enumerate(fruits, start=2):\n",
    "    print(f\"Numéro {index} : {fruit}\")"
   ]
  },
  {
   "cell_type": "markdown",
   "id": "bfe9f58b",
   "metadata": {},
   "source": [
    "## Définir une fonction\n",
    "Les **fonctions** sont un élément fondamental en programmation. Elles permettent de définir des blocs réutilisables, qui vont prendre en entrée des variables (les *arguments* ou bien *paramètres*) et qui vont retourner une sortie.\n",
    "\n",
    "**Elles permettent de regrouper du code afin qu'il puisse être réutilisé facilement.**\n",
    "\n",
    "En Python, on utilise le mot clé `def` pour définir une fonction et le mot clé `return` pour retourner la sortie :\n",
    "\n",
    "```python\n",
    "def nom_de_fonction(param1, param2, ...):\n",
    "     \"\"\"Chaîne de documentation (optionnelle)\"\"\"\n",
    "     # bloc de code\n",
    "     return resultat  # (optionnel)\n",
    "```\n",
    "\n",
    "On appelle ensuite la fonction en utilisation la syntaxe `nom_de_fonction()`.\n",
    "\n",
    "Il est possible de passer des arguments par défaut en les spécifiant lors de la définition des arguments.\n",
    "\n",
    "```python\n",
    "def nom_de_fonction(param1, param_defaut = \"defaut\"):\n",
    "     \"\"\"Chaîne de documentation (optionnelle)\"\"\"\n",
    "     # bloc de code\n",
    "     return resultat  # (optionnel)\n",
    "```"
   ]
  },
  {
   "cell_type": "code",
   "execution_count": 19,
   "id": "9f8bcfed",
   "metadata": {},
   "outputs": [
    {
     "name": "stdout",
     "output_type": "stream",
     "text": [
      "J'aime le cours d'algorithmique pour les SHS!\n",
      "J'aime Algorithmique pour les SHS !\n",
      "J'aime Algorithmique pour les SHS !\n",
      "J'aime TALxIA !\n",
      "Le carré de 5 est : 25\n"
     ]
    }
   ],
   "source": [
    "# Fonction sans paramètre\n",
    "def aime_le_cours():\n",
    "    \"\"\"Affiche un message de bienvenue.\"\"\"\n",
    "    print(\"J'aime le cours d'algorithmique pour les SHS!\")\n",
    "\n",
    "# Appel de la fonction\n",
    "aime_le_cours()\n",
    "\n",
    "# Fonction avec un paramètre\n",
    "def aime_le_cours(nom_du_cours):\n",
    "    \"\"\"Affiche un message personnalisé.\"\"\"\n",
    "    print(f\"J'aime {nom_du_cours} !\")\n",
    "    # Il s'agit d'une manière de formatter les strings, qui utilise la syntaxe f, avec des\n",
    "    # accolades.\n",
    "\n",
    "# Appel de la fonction en spécifiant un paramètre\n",
    "aime_le_cours(\"Algorithmique pour les SHS\")\n",
    "\n",
    "# Fonction avec un paramètre par défaut\n",
    "def aime_le_cours(nom_du_cours=\"Algorithmique pour les SHS\"):\n",
    "    \"\"\"Affiche un message personnalisé.\"\"\"\n",
    "    print(f\"J'aime {nom_du_cours} !\")\n",
    "\n",
    "# Sans spécifier de paramètres\n",
    "aime_le_cours()\n",
    "# En spécifiant un paramètre\n",
    "aime_le_cours(\"TALxIA\")\n",
    "\n",
    "# Fonction avec un retour\n",
    "def carre(x):\n",
    "    \"\"\"Retourne le carré de x.\"\"\"\n",
    "    return x * x\n",
    "\n",
    "resultat = carre(5)\n",
    "print(\"Le carré de 5 est :\", resultat)\n",
    "\n"
   ]
  },
  {
   "cell_type": "markdown",
   "id": "8054bc94",
   "metadata": {},
   "source": [
    "**Exercices:**\n",
    "1. Écrivez une fonction `cube(n)` qui retourne le cube de n et testez la pour différentes valeurs de *n*.\n",
    "2. Écrivez une fonction `puissance(base, exposant)` qui calcule la base à la puissance exposant.\n",
    "3. Écrivez une fonction `convertir_temperature(temp, unite=\"C\")` qui :\n",
    "    - si unite == \"C\", retourne la température en Fahrenheit\n",
    "    - si unite == \"F\", retourne la température en Celsius\n",
    "\n",
    "Avec les formules de conversion suivantes :\n",
    "\n",
    "    °F = °C × 9/5 + 32\n",
    "\n",
    "    °C = (°F − 32) × 5/9"
   ]
  },
  {
   "cell_type": "markdown",
   "id": "e9214568",
   "metadata": {},
   "source": [
    "## Manipulation de fichiers"
   ]
  },
  {
   "cell_type": "markdown",
   "id": "9f98389d",
   "metadata": {},
   "source": [
    "Python offre des moyens simples pour lire et écrire des fichiers, ce qui est essentiel pour lire et pour écrire des données."
   ]
  },
  {
   "cell_type": "code",
   "execution_count": 1,
   "id": "cbdb6b72",
   "metadata": {},
   "outputs": [
    {
     "name": "stdout",
     "output_type": "stream",
     "text": [
      "ceci est un test!\n",
      "il s'agit du TP de révision\n"
     ]
    }
   ],
   "source": [
    "with open(\"data/sample.txt\", \"r\", encoding=\"utf-8\") as f:\n",
    "    content = f.read()\n",
    "    print(content)"
   ]
  },
  {
   "cell_type": "markdown",
   "id": "0e59df9a",
   "metadata": {},
   "source": [
    "avec les arguments : \n",
    "- « r » = mode lecture (autres modes : « w » pour écriture, « a » pour ajout)\n",
    "- encoding=« utf-8 », en fonction de la langue analysée.\n",
    "- Utilisation du mot-clé with pour créer un **contexte** qui ferme automatiquement le fichier après utilisation.\n",
    "\n",
    "ou ouvert et lu ligne par ligne :"
   ]
  },
  {
   "cell_type": "code",
   "execution_count": 2,
   "id": "027d2e62",
   "metadata": {},
   "outputs": [
    {
     "name": "stdout",
     "output_type": "stream",
     "text": [
      "LINE 0: ceci est un test!\n",
      "LINE 1: il s'agit du TP de révision\n"
     ]
    }
   ],
   "source": [
    "with open(\"data/sample.txt\", \"r\", encoding=\"utf-8\") as f:\n",
    "    for ix, line in enumerate(f):\n",
    "        line = line.strip()\n",
    "        print(f\"LINE {ix}:\", line)"
   ]
  },
  {
   "cell_type": "markdown",
   "id": "e8d613fa",
   "metadata": {},
   "source": [
    "Files can be overwritten using the \"w\" keyword to **overwrite** and the \"a\" keyword to **append**."
   ]
  },
  {
   "cell_type": "code",
   "execution_count": null,
   "id": "fd1ab601",
   "metadata": {},
   "outputs": [],
   "source": [
    "lines = [\"This is line 1\", \"This is line 2\"]\n",
    "\n",
    "with open(\"output.txt\", \"w\", encoding=\"utf-8\") as f:\n",
    "    for l in lines:\n",
    "        f.write(l + \"\\n\")"
   ]
  },
  {
   "cell_type": "markdown",
   "id": "11ac5b6a",
   "metadata": {},
   "source": [
    "**Exercices :**\n",
    "\n",
    "1. Lisez le fichier `pos_analysis.txt` et renvoyez sous forme de liste les mots dont la catégorie grammaticale est NOUN.\n",
    "2. Le fichier `french_UD_sample.conllu` contient un petit échantillon de dépendance universelle (à voir dans les prochaines leçons !)\n",
    "    - Chargez le fichier dans Python et essayez de comprendre sa structure.\n",
    "    - Renvoyez le nombre de phrases balisées dans le fichier.\n",
    "    - Construisez une liste « auxiliary » contenant tous les mots étiquetés comme AUX et une liste « adjective » contenant tous les adjectifs.\n",
    "3. **Pour aller plus loin**: écrivez le contenu de tous les mots contenus dans `auxiliary` dans le fichier `auxiliary.txt`."
   ]
  },
  {
   "cell_type": "markdown",
   "id": "195c9309",
   "metadata": {},
   "source": [
    "## Manipulation de tableaux et numpy\n",
    "\n",
    "Pour cette section, vous devrez installer la bibliothèque `numpy` dans votre environnement (`pip install numpy`).\n",
    "La lecture de la documentation sera très utile pour le laboratoire de cette année : `https://numpy.org`.\n",
    "\n",
    "Elle permet de créer des objets itérables plus rapidement et de manière plus efficace en termes de mémoire que les listes Python pour les opérations numériques."
   ]
  },
  {
   "cell_type": "code",
   "execution_count": 5,
   "id": "05c81b14",
   "metadata": {},
   "outputs": [
    {
     "name": "stdout",
     "output_type": "stream",
     "text": [
      "Array a: [1 2 3 4]\n",
      "Array b:\n",
      " [[1 2]\n",
      " [3 4]]\n"
     ]
    }
   ],
   "source": [
    "import numpy as np\n",
    "\n",
    "# Create from a Python list\n",
    "a = np.array([1, 2, 3, 4])\n",
    "print(\"Array a:\", a)\n",
    "\n",
    "# Create a 2D array (matrix)\n",
    "b = np.array([[1, 2], [3, 4]])\n",
    "print(\"Array b:\\n\", b)"
   ]
  },
  {
   "cell_type": "markdown",
   "id": "5f88b014",
   "metadata": {},
   "source": [
    "`numpy` est particulièrement utile pour les multiplications *pair-wise*."
   ]
  },
  {
   "cell_type": "code",
   "execution_count": 6,
   "id": "42e977ee",
   "metadata": {},
   "outputs": [
    {
     "name": "stdout",
     "output_type": "stream",
     "text": [
      "[11 22 33]\n",
      "[10 40 90]\n",
      "[1 4 9]\n"
     ]
    }
   ],
   "source": [
    "x = np.array([1, 2, 3])\n",
    "y = np.array([10, 20, 30])\n",
    "\n",
    "print(x + y)\n",
    "print(x * y) \n",
    "print(x ** 2)"
   ]
  },
  {
   "cell_type": "markdown",
   "id": "1549fec9",
   "metadata": {},
   "source": [
    "Et pour l'accès à un certains nombres de fonctions statistiques."
   ]
  },
  {
   "cell_type": "code",
   "execution_count": 7,
   "id": "8bc02662",
   "metadata": {},
   "outputs": [
    {
     "name": "stdout",
     "output_type": "stream",
     "text": [
      "Sum: 15\n",
      "Mean: 3.0\n",
      "Max: 5\n",
      "Square roots: [1.         1.41421356 1.73205081 2.         2.23606798]\n"
     ]
    },
    {
     "data": {
      "text/plain": [
       "array([2., 5., 8.])"
      ]
     },
     "execution_count": 7,
     "metadata": {},
     "output_type": "execute_result"
    }
   ],
   "source": [
    "arr = np.array([1, 2, 3, 4, 5])\n",
    "print(\"Sum:\", np.sum(arr))\n",
    "print(\"Mean:\", np.mean(arr))\n",
    "print(\"Max:\", np.max(arr))\n",
    "print(\"Square roots:\", np.sqrt(arr))\n",
    "\n",
    "# On table row\n",
    "d = np.array([[1, 2, 3],\n",
    "              [4, 5, 6],\n",
    "              [7, 8, 9]])\n",
    "d.mean(axis=1)"
   ]
  },
  {
   "cell_type": "markdown",
   "id": "5647fccf",
   "metadata": {},
   "source": [
    "**Exercices :** \n",
    "\n",
    "1. Élevez chaque élément de [2, 3, 4] au cube sans utiliser de boucle « for ».\n",
    "2. Renvoyez chaque élément supérieur à la moyenne.\n",
    "3. Renvoyez la somme par ligne de chaque élément.\n",
    "4. Créez un tableau aléatoire à l'aide de « np.random.randint ».\n",
    "5. Comptez le nombre d'éléments pairs."
   ]
  },
  {
   "cell_type": "markdown",
   "id": "cf975295",
   "metadata": {},
   "source": [
    "## Pour aller plus loin : résolutions de problème\n",
    "Cette partie contient des problèmes de réflexion plus compliqués à résoudre en Python en utilisant les concepts vus tout au long des séances. **Ceux-ci doivent être finis à la maison**.\n",
    "\n",
    "##### Problème 1 : Somme des indices pairs\n",
    "\n",
    "Écrivez une fonction `somme_indices_pairs(liste)` qui :\n",
    "- prend une liste de nombres en entrée,\n",
    "- calcule et retourne la somme des éléments situés à un index pair (0, 2, 4, …).\n",
    "\n",
    "```python\n",
    "somme_indices_pairs([10, 20, 30, 40, 50])  # Retourne 10 + 30 + 50 = 90\n",
    "```\n",
    "\n",
    "##### Problème 2 : Trouver les doublons d'une liste\n",
    "Écrivez une fonction `trouver_doublons(liste)` qui :\n",
    "- prend une liste de nombres ou de chaînes,\n",
    "- retourne une liste contenant tous les éléments qui apparaissent plus d’une fois, sans répétition dans le résultat.\n",
    "\n",
    "```python\n",
    "trouver_doublons([1, 2, 3, 2, 4, 1, 5])  # Retourne [1, 2]\n",
    "```\n",
    "\n",
    "##### Problème 3 : Mot le plus long\n",
    "Écrivez une fonction `mot_plus_long(phrases)` qui :\n",
    "- prend une liste de phrases (chaînes de caractères),\n",
    "- retourne le mot le plus long parmi toutes les phrases et la phrase dans laquelle il apparaît.\n",
    "\n",
    "\n",
    "👉 **Indice** : on peut couper une chaîne de caractère sur les espaces grâce à la méthode `split()`\n",
    "```python\n",
    "\"ceci est un\".split() = [\"ceci\", \"est\", \"un\"]\n",
    "```\n",
    "\n",
    "```python\n",
    "phrases = [\"Bonjour à tous\", \"Python est fantastique\", \"J'aime coder\"]\n",
    "mot_plus_long(phrases)\n",
    "# Retourne (\"fantastique\", \"Python est fantastique\")\n",
    "```\n",
    "\n",
    "##### Problème 4\n",
    "Écrivez une fonction `frequence_lettres(texte)` qui : \n",
    "- prend en entrée une chaîne de caractères texte,\n",
    "- ignore la casse (majuscule/minuscule) (👉 **Indice** : la méthode `lower` permet de récupérer une chaîne de caractère en minuscule : `\"Test\".lower() = \"test\"`)\n",
    "- compte combien de fois chaque lettre de l’alphabet apparaît dans le texte\n",
    "- retourne un dictionnaire avec les lettres comme clés et leur fréquence comme valeurs\n",
    "\n",
    "```python\n",
    "frequence_lettres(\"Bonjour Python !\")\n",
    "# Retourne : {'b':1, 'o':3, 'n':2, 'j':1, 'u':1, 'r':1, 'p':1, 'y':1, 't':1, 'h':1}\n",
    "```"
   ]
  }
 ],
 "metadata": {
  "kernelspec": {
   "display_name": "venv (3.12.7)",
   "language": "python",
   "name": "python3"
  },
  "language_info": {
   "codemirror_mode": {
    "name": "ipython",
    "version": 3
   },
   "file_extension": ".py",
   "mimetype": "text/x-python",
   "name": "python",
   "nbconvert_exporter": "python",
   "pygments_lexer": "ipython3",
   "version": "3.12.7"
  }
 },
 "nbformat": 4,
 "nbformat_minor": 5
}
