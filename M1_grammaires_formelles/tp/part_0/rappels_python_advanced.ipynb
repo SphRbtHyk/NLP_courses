{
 "cells": [
  {
   "cell_type": "markdown",
   "id": "ca229fc0",
   "metadata": {},
   "source": [
    "# Exercices sur les bases de Python (sans aide-mémoire)\n",
    "\n",
    "Ce TP doit pouvoir être fait sans **aide additionnelle** afin de pouvoir suivre confortablement le reste des cours.  \n",
    "Vous pouvez vous référer à la *cheat-sheet* qui est fournie que si jamais vous êtes vraiment bloqués.\n",
    "\n",
    "Bien sûr, le recours à l'IA générative est un handicap dans votre processus d'apprentissage pour le reste du cours 😉"
   ]
  },
  {
   "cell_type": "markdown",
   "id": "a7a175b8",
   "metadata": {},
   "source": [
    "Pour aller plus loin, je vous recommande vivement de suivre le [tutoriel Python](https://docs.python.org/3/tutorial).\n",
    "\n",
    "**Prérequis** :\n",
    "- Une installation fonctionnelle de Python >= 3.8\n",
    "- Une installation fonctionnelle de la version correspondante de pip\n",
    "\n",
    "> Notez que tout au long de ce tutoriel, vous devrez utiliser l'exécutable Python correct sur votre système\n",
    "\n",
    "## Création d'un environnement virtuel et exécution de Jupyter Notebook\n",
    "\n",
    "Tous les travaux pratiques de ce cours seront réalisés à l'aide de Python et de [Jupyter](https://jupyter.org/), un environnement de développement interactif basé sur le Web.\n",
    "\n",
    "\n",
    "Pour installer Jupyter notebook, suivez les étapes suivantes dans votre terminal :\n",
    "\n",
    "0. Accédez au dossier dans lequel vous avez téléchargé le dossier prog_basics.\n",
    "\n",
    "\n",
    "1. Créez un environnement virtuel (une arborescence de répertoires autonome qui contient une installation Python pour une version particulière de Python, ainsi qu'un certain nombre de paquets supplémentaires).\n",
    "\n",
    ">```python -m venv venv```\n",
    "\n",
    "2. Activez l'environnement virtuel\n",
    ">```source venv/bin/activate```\n",
    "ou\n",
    ">```./venv/Scripts/activate```\n",
    "\n",
    "3. Installez Jupyter\n",
    "> ```pip install jupyter```\n",
    "\n",
    "4. Lancez le notebook Jupyter pour aujourd'hui\n",
    "> ```jupyter notebook lab0_introduction.ipynb```\n",
    "\n",
    "**Exercice :**\n",
    "Installez le paquet **numpy** (`pip install numpy`) dans votre environnement et vérifiez que l'importation fonctionne en exécutant :"
   ]
  },
  {
   "cell_type": "code",
   "execution_count": 1,
   "id": "6d30d9f2",
   "metadata": {},
   "outputs": [],
   "source": [
    "import numpy as np"
   ]
  },
  {
   "cell_type": "markdown",
   "id": "7a940f0f",
   "metadata": {},
   "source": [
    "## Variables\n",
    "1. Créez une variable `x` égale à 10. Faîtes un `print` de son type.\n",
    "2. Créez une variable `y` égale à 3.5. Faîtes un `print` de son type.\n",
    "3. Convertissez `y` en entier et affiche le résultat.\n",
    "4. Créez une variable `nom` contenant votre prénom et affichez-la."
   ]
  },
  {
   "cell_type": "code",
   "execution_count": 2,
   "id": "e9d20c64",
   "metadata": {},
   "outputs": [],
   "source": [
    "# Votre code ici"
   ]
  },
  {
   "cell_type": "markdown",
   "id": "a34bd3ad",
   "metadata": {},
   "source": [
    "## Iterables\n",
    "\n",
    "**Exercices sur les listes**:\n",
    "1. Créez une liste qui contient les chiffres de 1 à 10.\n",
    "2. Rajoutez l'élément 4 à la fin.\n",
    "3. Imprimez les 2 premiers éléments.\n",
    "4. Supprimez le 3ème élément.\n",
    "5. Rajoutez l'élément 5 en 4ème position."
   ]
  },
  {
   "cell_type": "code",
   "execution_count": 3,
   "id": "1c149cd9",
   "metadata": {},
   "outputs": [],
   "source": [
    "# Votre code ici"
   ]
  },
  {
   "cell_type": "markdown",
   "id": "45b7437e",
   "metadata": {},
   "source": [
    "**Exercices sur les sets**:\n",
    "1. Créez le set `mon_set` (1, 2, 2, 3) et constatez qu'il n'y a pas de doublon.\n",
    "2. Supprimez les doublons de la liste [1, 1, 2, 2, 3] et stockez le sous la variable `sans_doublon`.\n",
    "3. Ajoutez le nombre `5` à l’ensemble.\n",
    "4. Supprimez le nombre `2` de l’ensemble.\n",
    "5. Trouvez l'intersection entre (1, 2, 2, 3) et [1, 1, 2, 2, 3]."
   ]
  },
  {
   "cell_type": "code",
   "execution_count": 4,
   "id": "68e52d97",
   "metadata": {},
   "outputs": [],
   "source": [
    "# Votre code ici"
   ]
  },
  {
   "cell_type": "markdown",
   "id": "c1faae36",
   "metadata": {},
   "source": [
    "**Exercices sur les dictionnaires**:\n",
    "1. Démontrez qu'une liste ne peut pas être une clé valide d'un dictionnaire.\n",
    "2. Créez un dictionnaire qui associe à 3 pays une capitale.\n",
    "4. Imprimez les trois pays.\n",
    "5. Imprimez les trois capitales.\n",
    "6. Associez \"Melbourne\" à l'Australie.\n",
    "7. Éditez la valeur pour l'Australie en Canberra.\n",
    "8. Supprimez la valeur pour l'Australie."
   ]
  },
  {
   "cell_type": "markdown",
   "id": "778ab266",
   "metadata": {},
   "source": [
    "## Structure de contrôle\n",
    "\n",
    "**Exercices if/else** :\n",
    "\n",
    "1. Générez une erreur `IndentationError` en réalisant la mauvaise indentation de votre code dans une condition `if`/`else`.\n",
    "2. Réalisez un bloc de condition qui `print` \"Enfant\" si la variable `age` est inférieure à 12, \"Adolescent\" si l'âge est entre 12 et 18, et Adulte sinon.\n",
    "3. Réalisez un bloc de condition qui `print` \"Pair\" si la variable `x` est divisible par 2, sinon \"Impair\".\n",
    "\n",
    "**Exercices for loop** :\n",
    "1. Affichez tous les nombres pairs entre 1 et 20 à l'aide d'une boucle `for`.\n",
    "2. Calculez la somme des éléments entre 0 et 100 (sans utiliser `sum` ou la formule de Gauss).\n",
    "3. Calculez la somme des carrés des nombres de 1 à 20.\n",
    "4. Étant donné une liste de nombres `[3, 8, 12, 5, 7, 20]`, créez une nouvelle liste contenant seulement les nombres supérieurs à 10.\n",
    "\n",
    "**Exercices while loop** :\n",
    "1. À l'aide d'une boucle `while`, faire un `print` de tous les éléments entre 1 et 10.\n",
    "2. Avec une boucle `while` et le mot clé `continue`, affichez les nombres de 1 à 20, mais sautez tous les multiples de 3.\n",
    "3. La fonction `input` permet de demander une entrée à l'utilisateur, qui sera stocké dans une variable. Le retour de l'utilisateur est stocké dans la variable qui est mise dans le retour de `input` (par exemple, `input = input(\"Donne moi un chiffre\")` stockera dans `input` la valeur donnée par l'utilisateur).\n",
    "Réalisez un bloc de code demandant itérativement une valeur à l'utilisateur à l'aide d'une boucle `while`, et sortez de la boucle lorsque la somme des valeurs entrées dépasse 100.\n",
    "4. Demandez des nombres à l’utilisateur jusqu’à ce qu’il saisisse 0, puis à l'aide de `continue`, affichez uniquement les nombres pairs."
   ]
  },
  {
   "cell_type": "code",
   "execution_count": null,
   "id": "caf56299",
   "metadata": {},
   "outputs": [],
   "source": [
    "# Votre code ici"
   ]
  },
  {
   "cell_type": "markdown",
   "id": "79fd8616",
   "metadata": {},
   "source": [
    "## La gestion des erreurs\n",
    "\n",
    "En Python, il est fréquent que certaines instructions puissent provoquer des erreurs (ou exceptions) lors de l’exécution du programme. Ces erreurs peuvent provenir, par exemple :\n",
    "- de la division par zéro (`ZeroDivisionError`)\n",
    "- de l’accès à un indice inexistant dans une liste (`IndexError`)\n",
    "- de la conversion d’une chaîne en entier qui n’est pas un nombre (`ValueError`)\n",
    "\n",
    "Pour éviter que le programme s’arrête brutalement, Python propose des mécanismes pour capturer et gérer ces erreurs.\n",
    "\n",
    "La syntaxe standard consiste à utiliser un bloc `try/except`:\n",
    "\n",
    "```\n",
    "try:\n",
    "    # bloc de code à surveiller\n",
    "\n",
    "    x = int(input(\"Saisis un nombre : \"))\n",
    "    resultat = 10 / x\n",
    "\n",
    "except ZeroDivisionError:\n",
    "    print(\"Erreur : division par zéro !\")\n",
    "    \n",
    "except ValueError:\n",
    "    print(\"Erreur : saisie invalide, ce n'est pas un nombre !\")\n",
    "```\n",
    "\n",
    "Dans le cas où le type d'erreur n'est pas clair, on peut utiliser l'expression fourre-tout `Exception`.\n",
    "\n",
    "\n",
    "**Exercices :**\n",
    "1. Créez une liste de 5 éléments et demande à l’utilisateur un indice afin d'afficher le chiffre correspondant dans la liste, en ajoutant une gestion d'erreur dans le cas où l'indice ne correspond pas à un élément dans la liste.\n",
    "2. Demandez un nombre à l’utilisateur et le convertir en entier. Si la saisie est incorrecte, affiche un message d’erreur et redemandez à l'utilisateur en lui laissant 3 tentatives. Sinon affichez \"Nombre de tentatives dépassées\"."
   ]
  },
  {
   "cell_type": "markdown",
   "id": "56c1fd8c",
   "metadata": {},
   "source": [
    "## Compréhension de liste (list comprehension)\n",
    "\n",
    "Une **compréhension de liste** est une façon concise de créer une liste à partir d'un itérable.\n",
    "\n",
    "Sa syntaxe générale est :\n",
    "     `[expression for élément in itérable]`\n",
    "itérable peut être un dictionnaire, une liste, un set ...\n",
    "\n",
    "Cela permet d'écrire du code plus court et plus lisible plutôt que de devoir passer systématiquement par une boucle `for`."
   ]
  },
  {
   "cell_type": "code",
   "execution_count": 5,
   "id": "a2cc2a64",
   "metadata": {},
   "outputs": [
    {
     "name": "stdout",
     "output_type": "stream",
     "text": [
      "[0, 1, 8, 27, 64, 125, 216, 343, 512, 729]\n",
      "[0, 1, 8, 27, 64, 125, 216, 343, 512, 729]\n",
      "['CHAT', 'CHIEN', 'LAPIN']\n",
      "[0, 2, 4, 6, 8, 10, 12, 14, 16, 18]\n",
      "[[1, 3], [2, 6], [3, 9], [4, 12], [5, 15]]\n"
     ]
    }
   ],
   "source": [
    "# Exemple 1 : Création d'une liste des carrés de 0 à 9\n",
    "cubes = [x**3 for x in range(10)]\n",
    "print(cubes)\n",
    "\n",
    "# Équivalent sans compréhension de liste :\n",
    "cubes_equiv = []\n",
    "for x in range(10):\n",
    "    cubes_equiv.append(x**3)\n",
    "print(cubes_equiv)\n",
    "\n",
    "# ---------------------------------------------------\n",
    "# Exemple 2 : Transformer tous les mots en majuscules\n",
    "mots = [\"chat\", \"chien\", \"lapin\"]\n",
    "majuscules = [mot.upper() for mot in mots]\n",
    "# ⚠️ Les objets de type str possèdent de nombreuses méthodes pour les transformer, nous en verrons au fur et à mesure des TP.\n",
    "print(majuscules)\n",
    "\n",
    "# ---------------------------------------------------\n",
    "# Exemple 3 : Filtrer avec une condition\n",
    "pairs = [x for x in range(20) if x % 2 == 0]\n",
    "print(pairs)\n",
    "\n",
    "# ---------------------------------------------------\n",
    "#  Exemple 4 : Liste de listes (imbriquées)\n",
    "table_de_3 = [[i, i*3] for i in range(1, 6)]\n",
    "print(table_de_3)"
   ]
  },
  {
   "cell_type": "markdown",
   "id": "d6bf186d",
   "metadata": {},
   "source": [
    "**Exercices**:\n",
    "1. Ré-écrivez la boucle suivante en compréhension de liste.\n",
    "```\n",
    "liste = [2, 3, 4]\n",
    "for ix in liste:\n",
    "    print(ix)\n",
    "```\n",
    "2. Filtrer tous les nombres divisibles par trois entre 1 et 40."
   ]
  },
  {
   "cell_type": "markdown",
   "id": "b8d67580",
   "metadata": {},
   "source": [
    "## La fonction `enumerate`\n",
    "La fonction `enumerate()` permet de parcourir une liste en obtenant à la fois:\n",
    " - L'indice de l'élément courant\n",
    " - La valeur de l'élément\n",
    "Il est possible de décaler la valeur des indices retournés grâce à l'argument `start`.\n"
   ]
  },
  {
   "cell_type": "code",
   "execution_count": 6,
   "id": "cb1184af",
   "metadata": {},
   "outputs": [
    {
     "name": "stdout",
     "output_type": "stream",
     "text": [
      "Numéro 0 : pomme\n",
      "Numéro 1 : banane\n",
      "Numéro 2 : cerise\n",
      "Numéro 2 : pomme\n",
      "Numéro 3 : banane\n",
      "Numéro 4 : cerise\n"
     ]
    }
   ],
   "source": [
    "fruits = [\"pomme\", \"banane\", \"cerise\"]\n",
    "\n",
    "for index, fruit in enumerate(fruits):\n",
    "    print(f\"Numéro {index} : {fruit}\")\n",
    "\n",
    "for index, fruit in enumerate(fruits, start=2):\n",
    "    print(f\"Numéro {index} : {fruit}\")"
   ]
  },
  {
   "cell_type": "markdown",
   "id": "ecdf41e1",
   "metadata": {},
   "source": [
    "## Création de fonctions"
   ]
  },
  {
   "cell_type": "markdown",
   "id": "a9a84edf",
   "metadata": {},
   "source": [
    "**Exercices:**\n",
    "1. Écrivez une fonction `cube(n)` qui retourne le cube de n et testez la pour différentes valeurs de *n*.\n",
    "2. Écrivez une fonction `puissance(base, exposant)` qui calcule la base à la puissance exposant.\n",
    "3. Écrivez une fonction `convertir_temperature(temp, unite=\"C\")` qui :\n",
    "    - si unite == \"C\", retourne la température en Fahrenheit\n",
    "    - si unite == \"F\", retourne la température en Celsius\n"
   ]
  },
  {
   "cell_type": "markdown",
   "id": "24dbe53d",
   "metadata": {},
   "source": [
    "## Manipulation de fichiers\n",
    "Python offre des moyens simples pour lire et écrire des fichiers, ce qui est essentiel pour lire et pour écrire des données."
   ]
  },
  {
   "cell_type": "code",
   "execution_count": 7,
   "id": "b8d57d85",
   "metadata": {},
   "outputs": [
    {
     "name": "stdout",
     "output_type": "stream",
     "text": [
      "ceci est un test!\n",
      "il s'agit du TP de révision\n"
     ]
    }
   ],
   "source": [
    "with open(\"data/sample.txt\", \"r\", encoding=\"utf-8\") as f:\n",
    "    content = f.read()\n",
    "    print(content)"
   ]
  },
  {
   "cell_type": "markdown",
   "id": "2d4a3f4b",
   "metadata": {},
   "source": [
    "avec les arguments : \n",
    "- « r » = mode lecture (autres modes : « w » pour écriture, « a » pour ajout)\n",
    "- encoding=« utf-8 », en fonction de la langue analysée.\n",
    "- Utilisation du mot-clé with pour créer un **contexte** qui ferme automatiquement le fichier après utilisation.\n",
    "\n",
    "ou ouvert et lu ligne par ligne :"
   ]
  },
  {
   "cell_type": "code",
   "execution_count": 10,
   "id": "d8c08eb0",
   "metadata": {},
   "outputs": [
    {
     "name": "stdout",
     "output_type": "stream",
     "text": [
      "LINE 0: ceci est un test!\n",
      "LINE 1: il s'agit du TP de révision\n"
     ]
    }
   ],
   "source": [
    "with open(\"data/sample.txt\", \"r\", encoding=\"utf-8\") as f:\n",
    "    for ix, line in enumerate(f):\n",
    "        line = line.strip()\n",
    "        print(f\"LINE {ix}:\", line)"
   ]
  },
  {
   "cell_type": "markdown",
   "id": "b17677f3",
   "metadata": {},
   "source": [
    "Files can be overwritten using the \"w\" keyword to **overwrite** and the \"a\" keyword to **append**."
   ]
  },
  {
   "cell_type": "code",
   "execution_count": null,
   "id": "d8700028",
   "metadata": {},
   "outputs": [],
   "source": [
    "lines = [\"This is line 1\", \"This is line 2\"]\n",
    "\n",
    "with open(\"output.txt\", \"w\", encoding=\"utf-8\") as f:\n",
    "    for l in lines:\n",
    "        f.write(l + \"\\n\")"
   ]
  },
  {
   "cell_type": "markdown",
   "id": "6b5a7bcb",
   "metadata": {},
   "source": [
    "**Exercices :**\n",
    "\n",
    "1. Lisez le fichier `pos_analysis.txt` et renvoyez sous forme de liste les mots dont la catégorie grammaticale est NOUN.\n",
    "2. Le fichier `french_UD_sample.conllu` contient un petit échantillon de dépendance universelle (à voir dans les prochaines leçons !)\n",
    "    - Chargez le fichier dans Python et essayez de comprendre sa structure.\n",
    "    - Renvoyez le nombre de phrases balisées dans le fichier.\n",
    "    - Construisez une liste « auxiliary » contenant tous les mots étiquetés comme AUX et une liste « adjective » contenant tous les adjectifs.\n",
    "3. **Pour aller plus loin**: écrivez le contenu de tous les mots contenus dans `auxiliary` dans le fichier `auxiliary.txt`."
   ]
  },
  {
   "cell_type": "markdown",
   "id": "f0b2010b",
   "metadata": {},
   "source": [
    "## Manipulation de tableaux et numpy\n",
    "\n",
    "Pour cette section, vous devrez installer la bibliothèque `numpy` dans votre environnement (`pip install numpy`).\n",
    "La lecture de la documentation sera très utile pour le laboratoire de cette année : `https://numpy.org`.\n",
    "\n",
    "Elle permet de créer des objets itérables plus rapidement et de manière plus efficace en termes de mémoire que les listes Python pour les opérations numériques."
   ]
  },
  {
   "cell_type": "code",
   "execution_count": 11,
   "id": "4f04e8c7",
   "metadata": {},
   "outputs": [
    {
     "name": "stdout",
     "output_type": "stream",
     "text": [
      "Array a: [1 2 3 4]\n",
      "Array b:\n",
      " [[1 2]\n",
      " [3 4]]\n"
     ]
    }
   ],
   "source": [
    "import numpy as np\n",
    "\n",
    "# Create from a Python list\n",
    "a = np.array([1, 2, 3, 4])\n",
    "print(\"Array a:\", a)\n",
    "\n",
    "# Create a 2D array (matrix)\n",
    "b = np.array([[1, 2], [3, 4]])\n",
    "print(\"Array b:\\n\", b)"
   ]
  },
  {
   "cell_type": "markdown",
   "id": "af44bacc",
   "metadata": {},
   "source": [
    "`numpy` est particulièrement utile pour les multiplications *pair-wise*."
   ]
  },
  {
   "cell_type": "code",
   "execution_count": null,
   "id": "eb37c27d",
   "metadata": {},
   "outputs": [],
   "source": [
    "x = np.array([1, 2, 3])\n",
    "y = np.array([10, 20, 30])\n",
    "\n",
    "print(x + y)\n",
    "print(x * y) \n",
    "print(x ** 2)"
   ]
  },
  {
   "cell_type": "markdown",
   "id": "85e232b5",
   "metadata": {},
   "source": [
    "Et pour l'accès à un certains nombres de fonctions statistiques :"
   ]
  },
  {
   "cell_type": "code",
   "execution_count": 12,
   "id": "02bc9d92",
   "metadata": {},
   "outputs": [
    {
     "name": "stdout",
     "output_type": "stream",
     "text": [
      "Sum: 15\n",
      "Mean: 3.0\n",
      "Max: 5\n",
      "Square roots: [1.         1.41421356 1.73205081 2.         2.23606798]\n"
     ]
    },
    {
     "data": {
      "text/plain": [
       "array([2., 5., 8.])"
      ]
     },
     "execution_count": 12,
     "metadata": {},
     "output_type": "execute_result"
    }
   ],
   "source": [
    "arr = np.array([1, 2, 3, 4, 5])\n",
    "print(\"Sum:\", np.sum(arr))\n",
    "print(\"Mean:\", np.mean(arr))\n",
    "print(\"Max:\", np.max(arr))\n",
    "print(\"Square roots:\", np.sqrt(arr))\n",
    "\n",
    "# On table row\n",
    "d = np.array([[1, 2, 3],\n",
    "              [4, 5, 6],\n",
    "              [7, 8, 9]])\n",
    "d.mean(axis=1)"
   ]
  },
  {
   "cell_type": "markdown",
   "id": "2872841e",
   "metadata": {},
   "source": [
    "**Exercices :** \n",
    "\n",
    "1. Élevez chaque élément de [2, 3, 4] au cube sans utiliser de boucle « for ».\n",
    "2. Renvoyez chaque élément supérieur à la moyenne.\n",
    "3. Renvoyez la somme par ligne de chaque élément.\n",
    "4. Créez un tableau aléatoire à l'aide de « np.random.randint ».\n",
    "5. Comptez le nombre d'éléments pairs."
   ]
  },
  {
   "cell_type": "markdown",
   "id": "0215426a",
   "metadata": {},
   "source": [
    "## Pour aller plus loin : résolutions de problème\n",
    "Cette partie contient des problèmes de réflexion plus compliqués à résoudre en Python en utilisant les concepts vus. **Ceux-ci doivent être finis à la maison**.\n",
    "\n",
    "##### Problème 1 : Somme des indices pairs\n",
    "\n",
    "Écrivez une fonction `somme_indices_pairs(liste)` qui :\n",
    "- prend une liste de nombres en entrée,\n",
    "- calcule et retourne la somme des éléments situés à un index pair (0, 2, 4, …).\n",
    "\n",
    "```python\n",
    "somme_indices_pairs([10, 20, 30, 40, 50])  # Retourne 10 + 30 + 50 = 90\n",
    "```\n",
    "\n",
    "##### Problème 2 : Trouver les doublons d'une liste\n",
    "Écrivez une fonction `trouver_doublons(liste)` qui :\n",
    "- prend une liste de nombres ou de chaînes,\n",
    "- retourne une liste contenant tous les éléments qui apparaissent plus d’une fois, sans répétition dans le résultat.\n",
    "\n",
    "```python\n",
    "trouver_doublons([1, 2, 3, 2, 4, 1, 5])  # Retourne [1, 2]\n",
    "```\n",
    "\n",
    "##### Problème 3 : Mot le plus long\n",
    "Écrivez une fonction `mot_plus_long(phrases)` qui :\n",
    "- prend une liste de phrases (chaînes de caractères),\n",
    "- retourne le mot le plus long parmi toutes les phrases et la phrase dans laquelle il apparaît.\n",
    "\n",
    "\n",
    "👉 **Indice** : on peut couper une chaîne de caractère sur les espaces grâce à la méthode `split()`\n",
    "```python\n",
    "\"ceci est un\".split() = [\"ceci\", \"est\", \"un\"]\n",
    "```\n",
    "\n",
    "```python\n",
    "phrases = [\"Bonjour à tous\", \"Python est fantastique\", \"J'aime coder\"]\n",
    "mot_plus_long(phrases)\n",
    "# Retourne (\"fantastique\", \"Python est fantastique\")\n",
    "```\n",
    "\n",
    "##### Problème 4\n",
    "Écrivez une fonction `frequence_lettres(texte)` qui : \n",
    "- prend en entrée une chaîne de caractères texte,\n",
    "- ignore la casse (majuscule/minuscule) (👉 **Indice** : la méthode `lower` permet de récupérer une chaîne de caractère en minuscule : `\"Test\".lower() = \"test\"`)\n",
    "- compte combien de fois chaque lettre de l’alphabet apparaît dans le texte\n",
    "- retourne un dictionnaire avec les lettres comme clés et leur fréquence comme valeurs\n",
    "\n",
    "```python\n",
    "frequence_lettres(\"Bonjour Python !\")\n",
    "# Retourne : {'b':1, 'o':3, 'n':2, 'j':1, 'u':1, 'r':1, 'p':1, 'y':1, 't':1, 'h':1}\n",
    "```"
   ]
  }
 ],
 "metadata": {
  "kernelspec": {
   "display_name": "venv (3.12.7)",
   "language": "python",
   "name": "python3"
  },
  "language_info": {
   "codemirror_mode": {
    "name": "ipython",
    "version": 3
   },
   "file_extension": ".py",
   "mimetype": "text/x-python",
   "name": "python",
   "nbconvert_exporter": "python",
   "pygments_lexer": "ipython3",
   "version": "3.12.7"
  }
 },
 "nbformat": 4,
 "nbformat_minor": 5
}
