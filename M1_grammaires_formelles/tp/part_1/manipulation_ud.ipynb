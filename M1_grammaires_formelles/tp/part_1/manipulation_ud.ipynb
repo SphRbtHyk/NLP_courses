{
 "cells": [
  {
   "cell_type": "markdown",
   "id": "47fc5c87",
   "metadata": {},
   "source": [
    "# Handling Universal Dependency files"
   ]
  },
  {
   "cell_type": "markdown",
   "id": "9b826ab5",
   "metadata": {},
   "source": [
    "The file `data/french_USD.conllu` contains the French Treebank Seqoia."
   ]
  },
  {
   "cell_type": "markdown",
   "id": "1f6025ac",
   "metadata": {},
   "source": [
    "1. Load the file.\n",
    "2. Give the number of available parsed sentences in the file.\n",
    "3. Transform the file into a list of tuple of the from `(word, tag)`.\n",
    "3. Build a dictionary `counts` that counts the number of `tag` for each word in the corpus."
   ]
  },
  {
   "cell_type": "markdown",
   "id": "f98b115c",
   "metadata": {},
   "source": [
    "# Development of a naive approach\n",
    "The naive approach for POS tagging consists in assigning the most frequent tag associated with a word."
   ]
  },
  {
   "cell_type": "markdown",
   "id": "b96131aa",
   "metadata": {},
   "source": [
    "1. Build a function called `train_tagger` that takes as input a set of lines in the USD format and returns a dictionary `most_common_tag[word]`. \n",
    "2. Create a function `tag_word(word, tag_dict, default_tag)` that tags the word `word`.\n",
    "3. Create a function `tag_sentence(sentence, tag_dict, default_tag)` that returns a list of (word, tag) pairs for any input sentence.\n",
    "4. Tests your function on the sentence \"Le renard n'aime pas quand il court.\""
   ]
  },
  {
   "cell_type": "markdown",
   "id": "f36c0e2e",
   "metadata": {},
   "source": [
    "# Evaluation of the approach\n",
    "\n",
    "1. Create a training and test dataset, with the train containing 70\\% of randomly selected words from the USD and the rest of the 30\\% in the test dataset.\n",
    "2. Train the parser on your train dataset.\n",
    "3. Write the function `compute_accuracy(predictions, ground_truths)` that returns the accuracy given two numpy arrays containing POS tag.\n",
    "4. Evaluate the quality of the naïve parser on the test dataset.\n",
    "5. Print the wrongly predicted tags and comment on the limits of the naive parser."
   ]
  },
  {
   "cell_type": "markdown",
   "id": "6f1a732d",
   "metadata": {},
   "source": [
    "# Bonus : object oriented programming"
   ]
  },
  {
   "cell_type": "markdown",
   "id": "9d46c78d",
   "metadata": {
    "vscode": {
     "languageId": "plaintext"
    }
   },
   "source": [
    "Wrap all the methods to build a NaivePOSTagger class, that should have a method `fit` given a corpus and `tag` given a sentence."
   ]
  }
 ],
 "metadata": {
  "language_info": {
   "name": "python"
  }
 },
 "nbformat": 4,
 "nbformat_minor": 5
}
