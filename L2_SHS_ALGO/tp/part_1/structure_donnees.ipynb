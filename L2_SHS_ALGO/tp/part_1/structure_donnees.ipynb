{
 "cells": [
  {
   "cell_type": "markdown",
   "metadata": {},
   "source": [
    "# TP : Exercices sur les structures de données en Python\n",
    "\n",
    "Ce TP complète le cours de CM sur les structures de données, en permettant de vous familariser avec les différentes manières de manipuler des données en Python.\n",
    "\n",
    "**Se sentir parfaitement à l'aise pour la manipulation de données est ESSENTIEL pour devenir un bon développeur**."
   ]
  },
  {
   "cell_type": "markdown",
   "metadata": {},
   "source": [
    "## 1. Listes\n",
    "\n",
    "**Rappel CM** : Une liste est une collection ordonnée et modifiable. On peut accéder aux éléments par index, ajouter, supprimer, ou trier. En Python, la liste est implémentée par la fonction `list`."
   ]
  },
  {
   "cell_type": "markdown",
   "metadata": {},
   "source": [
    "**Exercice 1.1 : Manipulation de listes**\n",
    "\n",
    "1. Créez une liste `nombres` contenant les nombres de 1 à 10:\n",
    "\n",
    "    a. Manuellement\n",
    "    \n",
    "    b. En utilisant la fonction `range` ([documentation ici](https://docs.python.org/2/library/functions.html#range)).\n",
    "2. Affichez le 3ᵉ élément de la liste.\n",
    "3. Ajoutez le nombre 11 à la liste.\n",
    "4. Supprimez le nombre 5.\n",
    "5. Affichez tous les nombres pairs de la liste.\n",
    "6. Créez la fonction `pair_impair` qui prend en **entrée une liste** et qui sort deux **nouvelles** liste : une liste qui ne contient."
   ]
  },
  {
   "cell_type": "code",
   "execution_count": null,
   "metadata": {},
   "outputs": [],
   "source": []
  },
  {
   "cell_type": "markdown",
   "metadata": {},
   "source": [
    "**Exercice 1.2 : Tri et slicing**\n",
    "\n",
    "1. Triez la liste `nombres` dans l'ordre décroissant à l'aide.\n",
    "2. Affichez les 3 derniers éléments.\n",
    "3. Créez une nouvelle liste contenant seulement les 5 premiers éléments."
   ]
  },
  {
   "cell_type": "code",
   "execution_count": null,
   "metadata": {},
   "outputs": [],
   "source": [
    "# Votre code ici"
   ]
  },
  {
   "cell_type": "markdown",
   "metadata": {},
   "source": [
    "## 2. Piles et files\n",
    "\n",
    "Rappel CM :\n",
    "- Une **pile (stack)** suit le principe LIFO (Last In, First Out).\n",
    "- Une **file (queue)** suit le principe FIFO (First In, First Out)."
   ]
  },
  {
   "cell_type": "markdown",
   "metadata": {},
   "source": [
    "**Exercice 2.1 : Pile**\n",
    "\n",
    "1. Créez une pile vide en utilisant l'interface Python `list`.\n",
    "2. Ajoutez les nombres 1 à 5 dans la pile.\n",
    "3. Retirez et affichez les éléments un par un jusqu'à ce que la pile soit vide."
   ]
  },
  {
   "cell_type": "code",
   "execution_count": null,
   "metadata": {},
   "outputs": [],
   "source": [
    "# Votre code ici"
   ]
  },
  {
   "cell_type": "markdown",
   "metadata": {},
   "source": [
    "**Exercice 2.2 : File**\n",
    "\n",
    "1. Créez une file avec les éléments ['A', 'B', 'C'] en utilisant l'interface Python `list`.\n",
    "2. Ajoutez 'D' et 'E' à la file.\n",
    "3. Retirez les éléments un par un et affichez-les jusqu'à ce que la file soit vide."
   ]
  },
  {
   "cell_type": "code",
   "execution_count": null,
   "metadata": {},
   "outputs": [],
   "source": [
    "# Votre code ici"
   ]
  },
  {
   "cell_type": "markdown",
   "metadata": {},
   "source": [
    "## 3. Dictionnaires\n",
    "\n",
    "Rappel CM :\n",
    "- Un **dictionnaire** stocke des paires clé-valeur.\n"
   ]
  },
  {
   "cell_type": "markdown",
   "metadata": {},
   "source": [
    "**Exercice 3 : Dictionnaire**\n",
    "\n",
    "1. Créez un dictionnaire `etudiant` avec les clés : 'nom', 'prenom', 'age', et des valeurs correspondantes.\n",
    "2. Affichez le nom de l'étudiant.\n",
    "3. Ajoutez un cours 'Maths' à la clé 'cours' (une liste de cours).\n",
    "4. Supprimez la clé 'age'."
   ]
  },
  {
   "cell_type": "code",
   "execution_count": null,
   "metadata": {},
   "outputs": [],
   "source": [
    "# Votre code ici"
   ]
  },
  {
   "cell_type": "markdown",
   "id": "c7b900d6",
   "metadata": {},
   "source": [
    "## 4. Ensembles"
   ]
  },
  {
   "cell_type": "markdown",
   "id": "ee9a40be",
   "metadata": {},
   "source": [
    "Rappel CM :\n",
    "- Un ensemble est une structure de données qui prend en ."
   ]
  },
  {
   "cell_type": "markdown",
   "metadata": {},
   "source": [
    "**Exercice : Ensemble**\n",
    "\n",
    "1. Créez un ensemble `fruits` avec : 'pomme', 'banane', 'cerise', 'pomme'.\n",
    "2. Ajoutez 'orange'.\n",
    "3. Ajoutez un nouvel élément 'pomme'. `pomme` est il en doublon?\n",
    "3. Vérifiez si 'kiwi' est présent dans l'ensemble.\n",
    "4. Créez un autre ensemble et affichez l'intersection avec `fruits`."
   ]
  },
  {
   "cell_type": "code",
   "execution_count": null,
   "metadata": {},
   "outputs": [],
   "source": [
    "# Votre code ici"
   ]
  },
  {
   "cell_type": "markdown",
   "metadata": {},
   "source": [
    "## 5. Arbres\n",
    "\n",
    "Rappel CM :\n",
    "- Un arbre est une structure hiérarchique.\n",
    "- Chaque nœud peut avoir des enfants. Un **arbre binaire** a au maximum deux enfants par nœud.\n",
    "- Les parcours principaux sont : pré-ordre, in-ordre, post-ordre."
   ]
  },
  {
   "cell_type": "markdown",
   "metadata": {},
   "source": [
    "**Exercice 5 : Création d'un arbre binaire**\n",
    "\n",
    "1. Représentez un nœud d’arbre par un dictionnaire Python avec trois clés :  \n",
    "   - `\"valeur\"` pour stocker la donnée,  \n",
    "   - `\"gauche\"` pour le fils gauche,  \n",
    "   - `\"droite\"` pour le fils droit.  \n",
    "2. Construisez l’arbre suivant. S'agit-il d'un arbre binaire de recherche?\n",
    "```\n",
    "      10\n",
    "     /  \\\n",
    "    5    15\n",
    "   / \\     \\\n",
    "  3   7     20\n",
    "```\n",
    "3. Écrivez une fonction qui parcourt l’arbre en **pré-ordre** (racine – gauche – droite) et affiche les valeurs.\n",
    "4. Écrivez une fonction qui parcourt l’arbre en **ordre** (gauche – racine – droite) et affiche les valeurs.\n",
    "5. Vérifiez que le parcours en ordre renvoie une liste de valeurs **triées**, puisque l’arbre est un arbre binaire de recherche.\n",
    "6. **Bonus**: écrivez la fonction `cherche_arbre` qui prend en entrée un arbre binaire de recherche et une valeur et qui va retourner vrai si la valeur est présente dans l'arbre, sinon faux. Soyez malin en terme de performance 😉\n"
   ]
  },
  {
   "cell_type": "code",
   "execution_count": null,
   "metadata": {},
   "outputs": [],
   "source": [
    "# Votre code ici"
   ]
  },
  {
   "cell_type": "markdown",
   "metadata": {},
   "source": [
    "## 6. Bonus: Graphes\n",
    "\n",
    "Rappel CM :\n",
    "- Un graphe est un ensemble de nœuds reliés par des arêtes.\n",
    "- Il peut être orienté ou non orienté.\n",
    "- Les parcours principaux : DFS (profondeur), BFS (largeur)."
   ]
  },
  {
   "cell_type": "markdown",
   "metadata": {},
   "source": [
    "**Exercice 6**\n",
    "\n",
    "1. Représentez un graphe non orienté en Python à l’aide d’un dictionnaire :  \n",
    "   - chaque clé est un sommet,  \n",
    "   - la valeur associée est la liste de ses voisins.  \n",
    "\n",
    "2. Construisez le graphe suivant :  \n",
    "```\n",
    "   A\n",
    "  / \\\n",
    " B   C\n",
    "  \\ / \\\n",
    "   D - E\n",
    "```\n",
    "\n",
    "3. Écrivez une fonction qui parcourt le graphe en **profondeur (DFS)** à partir d’un sommet donné et affiche les sommets visités.\n",
    "4. Écrivez une fonction qui parcourt le graphe en **largeur (BFS)** à partir d’un sommet donné et affiche les sommets visités.\n",
    "5. Vérifiez que les deux parcours visitent bien tous les sommets du graphe."
   ]
  },
  {
   "cell_type": "code",
   "execution_count": null,
   "metadata": {},
   "outputs": [],
   "source": [
    "# Votre code ici"
   ]
  }
 ],
 "metadata": {
  "kernelspec": {
   "display_name": "Python 3",
   "language": "python",
   "name": "python3"
  },
  "language_info": {
   "name": "python",
   "version": "3.11"
  }
 },
 "nbformat": 4,
 "nbformat_minor": 5
}
