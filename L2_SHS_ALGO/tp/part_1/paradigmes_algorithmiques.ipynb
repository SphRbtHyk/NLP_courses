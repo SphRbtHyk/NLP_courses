{
 "cells": [
  {
   "cell_type": "markdown",
   "metadata": {},
   "source": [
    "# TP : Conceptions d'algorithmes\n",
    "\n",
    "Ce TP a pour but de découvrir trois problèmes standards reprenant les 3 **paradigmes algorithmiques** vus en cours.\n",
    "\n",
    "Paradigmes étudiés :\n",
    "1. **Diviser pour régner (Divide & Conquer)**\n",
    "2. **Approches gloutonnes (Greedy)**\n",
    "3. **Bonus: Backtracking (Retour sur trace)**\n"
   ]
  },
  {
   "cell_type": "markdown",
   "id": "67e6f145",
   "metadata": {},
   "source": [
    "# 0. Petit exercice de récursivité"
   ]
  },
  {
   "cell_type": "markdown",
   "id": "72415480",
   "metadata": {},
   "source": [
    "Implémenter chacun des problèmes suivants à l'aide de la récursivité (sans utiliser les fonctions natives de Python!), en vous demandant à chaque fois :\n",
    "- Quelles sont les situations triviales où je peux donner la réponse tout de suite (*case de base*)? \n",
    "- Comment réduire le problème à une version plus simple de lui-même (*appel récursif*)?\n",
    "\n",
    "1. Écrire une fonction récursive qui calcule la somme des nombres de 1 à *n*.\n",
    "2. Écrire une fonction récursive qui calcule le nombre d'éléments dans une liste.\n",
    "3. Écrire une fonction récursive qui calcule la factorielle (**Rappel**: $n!=n×(n−1)×(n−2)×…×1 et n!=0$)\n",
    "4. Écrire une fonction récursive qui calcule la suite de Fibonnaci (**Rappel**: \n",
    "$F(0) = 0,\\quad F(1) = 1$ //\n",
    "$F(n) = F(n-1) + F(n-2) \\quad \\text{pour } n \\geq 2$)."
   ]
  },
  {
   "cell_type": "markdown",
   "metadata": {},
   "source": [
    "## 1. Diviser pour régner — Recherche du maximum d'une liste\n",
    "\n",
    "**Problème** : On cherche le maximum d’une liste de nombres.\n",
    "\n",
    "1. Définir le type de l'entrée et le type de la sortie.\n",
    "2. Proposer la solution la plus naïve possible pour trouver le maximum d'une liste et implémentez là dans la fonction `naive_maximum`.\n",
    "3. Rappelez le fonctionnement général de la méthode de diviser pour régner pour trouver le maximum d'une liste.\n",
    "4. Implémentation de la fonction `divide_conquer_maximum`:\n",
    "    1. Quel est le cas de base (liste avec un seul élément)?\n",
    "    2. Implémentez l'algorithme.\n",
    "4. Rappelez la complexité de chacune des approches.\n",
    "5. Réalisez une comparaison en terme de temps d'exécution entre les deux algorithmes à l'aide de la fonction `time`. "
   ]
  },
  {
   "cell_type": "code",
   "execution_count": 1,
   "metadata": {},
   "outputs": [],
   "source": [
    "# Code ici"
   ]
  },
  {
   "cell_type": "markdown",
   "metadata": {},
   "source": [
    "## 2. Approches gloutonnes — Rendu de monnaie\n",
    "\n",
    "**Problème** : On veut rendre une somme d’argent avec le moins de pièces possible.\n",
    "\n",
    "1. Définir le type d'entrée et le type de sortie.\n",
    "2. Rappelez la méthode la plus naïve pour résoudre ce problème et donnez sa complexité. **N'oubliez pas le cas le plus simple d'un montant rendu de 0 et le cas où les pièces disponibles ne permettent pas de rendre la bonne somme d'argent 😉**.\n",
    "3. Implémentez cette méthode naïve en l'appelant `naive_rendu_monnaie`.\n",
    "4. Expliquez le principe derrière l'approche gloutonne pour le rendu de monnaie.\n",
    "5. Implémentez la fonction `gloutonne_rendu_monnaie` (en prenant en compte le cas d'un montant nul et de l'impossibilité de rendre le bon montant).\n",
    "6. Donnez un cas limite et montrez que votre implémentation de l'algorithme `gloutonne_rendu_monnaie` échoue tandis que votre implémentation de `naive_rendu_monnaie` réussie.\n",
    "7. Donnez la complexité de et vérifiez le empiriquement avec la fonction `time`."
   ]
  },
  {
   "cell_type": "markdown",
   "id": "75f2963f",
   "metadata": {},
   "source": [
    " "
   ]
  },
  {
   "cell_type": "code",
   "execution_count": 2,
   "metadata": {},
   "outputs": [],
   "source": [
    "# Votre code ici"
   ]
  },
  {
   "cell_type": "markdown",
   "metadata": {},
   "source": [
    "## 3. Bonus: Backtracking — Les N reines\n",
    "\n",
    "**Problème** : Placer N reines sur un échiquier N×N sans qu’elles ne s’attaquent.\n",
    "\n",
    "**Rappel sur le jeu des échecs** : une reine peut se déplacer horizontalement, verticalement et en diagonale sur toute la longueur de l’échiquier.\n",
    "\n",
    "1. Donnez l'entrée et la sortie attendue pour l'algorithme.\n",
    "2. Quelles sont les trois conditions à vérifier pour qu'une reine ne soit pas attaquée? Donnez une manière pour vérifier qu'une reine en position (ligne, col) ne soit pas attaquée.\n",
    "2. Rappelez et détaillez le pseudo-code vu en CM, et montrez manuellement que pour N=2 et N=3 il n'y a pas de solution.\n",
    "3. Implémentez le pseudo-code en Python.\n",
    "4. Donnez la complexité de l'algorithme."
   ]
  },
  {
   "cell_type": "code",
   "execution_count": 3,
   "id": "33ebf74c",
   "metadata": {},
   "outputs": [],
   "source": [
    "# Code ici"
   ]
  }
 ],
 "metadata": {
  "kernelspec": {
   "display_name": "venv (3.12.7)",
   "language": "python",
   "name": "python3"
  },
  "language_info": {
   "codemirror_mode": {
    "name": "ipython",
    "version": 3
   },
   "file_extension": ".py",
   "mimetype": "text/x-python",
   "name": "python",
   "nbconvert_exporter": "python",
   "pygments_lexer": "ipython3",
   "version": "3.12.7"
  }
 },
 "nbformat": 4,
 "nbformat_minor": 5
}
