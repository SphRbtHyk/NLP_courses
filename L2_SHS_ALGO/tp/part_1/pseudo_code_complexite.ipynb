{
 "cells": [
  {
   "cell_type": "markdown",
   "metadata": {},
   "source": [
    "# TP : Pseudo-langage, complexité et validité\n",
    "\n",
    "Dans ce TP, nous allons :\n",
    "- traduire des algorithmes simples donnés en pseudo-langage vers Python ;\n",
    "- vérifier la **validité** de nos implémentations (fonctionnent-elles correctement ?) ;\n",
    "- analyser leur **complexité théorique** (combien d'accès à chaque élément ?) ;\n",
    "- mesurer leur **temps d'exécution** pour comparer théorie et pratique."
   ]
  },
  {
   "cell_type": "markdown",
   "metadata": {},
   "source": [
    "## Exercice 1 : Somme des `n` premiers entiers\n",
    "\n",
    "**Pseudo-langage :**\n",
    "```\n",
    "Fonction(n):\n",
    "    s <- 0\n",
    "    pour i de 1 à n:\n",
    "        s <- s + i\n",
    "    retourner s\n",
    "```\n",
    "\n",
    "### Questions :\n",
    "1. Expliquez selon vos propres mots ce que fait cet algorithme.\n",
    "2. Implémentez et testez cet algorithme en Python sous le nom de fonction `somme`.\n",
    "3. Vérifiez sa validité sur un petit exemple (`n=5`).\n",
    "4. Calculez sa complexité théorique (nombre d’opérations en fonction de `n`).\n",
    "5. Donnez une solution mathématique directe (formule de Gauss, voir [ici](https://jcresson.perso.univ-pau.fr/preuves.pdf)) et donnez sa complexité.\n",
    "6. Implémentez cette solution en Python en lui donnant le nom de function `somme_gauss`.\n",
    "7. Mesurez le temps d’exécution des fonctions `somme` et `somme_gauss` pour `n = 10^4`, `10^5`, `10^6` à l'aide du module Python `time`.\n",
    "    - Que constatez-vous ?\n",
    "    - La théorie est-elle confirmée par la pratique ?\n",
    "8. Ré-écrivez la fonction à l'aide d'une boucle `while` plutôt qu'une boucle `for`."
   ]
  },
  {
   "cell_type": "markdown",
   "metadata": {},
   "source": [
    "## Exercice 2 : Recherche d'un élément dans une liste\n",
    "\n",
    "**Pseudo-langage :**\n",
    "```\n",
    "Fonction(L, x):\n",
    "    pour i de 0 à longueur(L)-1:\n",
    "        si L[i] = x:\n",
    "            retourner i\n",
    "    retourner -1\n",
    "```\n",
    "\n",
    "### Questions :\n",
    "1. Expliquez avec vos propres mots ce que fait cette fonction.\n",
    "2. Implémentez et testez la fonction en Python.\n",
    "3. Vérifiez sa validité.\n",
    "4. Analysez la complexité **au pire cas**, **au meilleur cas**, et **en moyenne**.\n",
    "5. Vérifiez en pratique à l'aide du module `time` que les temps du pire et du meilleur des cas encadre bien le temps d'exécution moyen."
   ]
  },
  {
   "cell_type": "code",
   "execution_count": null,
   "metadata": {},
   "outputs": [],
   "source": [
    "def selection_sort(L):\n",
    "    L = L[:]\n",
    "    for i in range(len(L)-1):\n",
    "        min_idx = i\n",
    "        for j in range(i+1, len(L)):\n",
    "            if L[j] < L[min_idx]:\n",
    "                min_idx = j\n",
    "        L[i], L[min_idx] = L[min_idx], L[i]\n",
    "    return L\n",
    "\n",
    "print(selection_sort([5,3,8,1,2]))"
   ]
  },
  {
   "cell_type": "markdown",
   "metadata": {},
   "source": [
    "## Exercice 3 : Recherche dichotomique dans une liste\n",
    "\n",
    "**Pseudo-langage :**\n",
    "```\n",
    "Fonction(L triée, x):\n",
    "    gauche <- 0\n",
    "    droite <- longueur(L)-1\n",
    "    tant que gauche <= droite:\n",
    "        milieu <- (gauche+droite)//2\n",
    "        si L[milieu] = x:\n",
    "            retourner milieu\n",
    "        sinon si L[milieu] < x:\n",
    "            gauche <- milieu+1\n",
    "        sinon:\n",
    "            droite <- milieu-1\n",
    "    retourner -1\n",
    "```\n",
    "\n",
    "### Questions :\n",
    "1. Expliquez avec vos propres mots ce que fait cette fonction.\n",
    "2. Implémentez cette fonction en Python.\n",
    "3. Vérifiez la validité.\n",
    "4. Analysez sa complexité théorique en O.\n",
    "5. Implémentez la fonction `recherche_lineaire` qui cherche linéairement si la valeur `x` est présente dans la liste triée L. \n",
    "6. Analysez la complexité de la fonction `recherche_lineaire`.\n",
    "7. Comparez expérimentalement la recherche linéaire et la recherche dichotomique."
   ]
  },
  {
   "cell_type": "markdown",
   "metadata": {},
   "source": [
    "## Exercice 4 : Maximum d'une liste\n",
    "\n",
    "**Pseudo-langage :**\n",
    "```\n",
    "Fonction(L):\n",
    "    max <- L[0]\n",
    "    pour i de 1 à longueur(L)-1:\n",
    "        si L[i] > max:\n",
    "            max <- L[i]\n",
    "    retourner max\n",
    "```\n",
    "\n",
    "### Questions :\n",
    "1. Expliquez avec vos propres mots ce que fait cette fonction.\n",
    "2. Implémentez et testez la fonction en Python.\n",
    "2. Vérifiez la validité de la fonction.\n",
    "3. Analysez la complexité théorique.\n",
    "4. Comparez expérimentalement l'efficacité de cette fonction avec celle de la fonction Python `max()`."
   ]
  },
  {
   "cell_type": "markdown",
   "metadata": {},
   "source": [
    "## Bonus: Exercice 5 : Comptage de fréquences de mots\n",
    "\n",
    "**Pseudo-langage :**\n",
    "```\n",
    "Fonction(texte):\n",
    "    dictionnaire <- vide\n",
    "    pour chaque mot dans texte:\n",
    "        si mot dans dictionnaire:\n",
    "            dictionnaire[mot] <- dictionnaire[mot] + 1\n",
    "        sinon:\n",
    "            dictionnaire[mot] <- 1\n",
    "    retourner dictionnaire\n",
    "```\n",
    "\n",
    "### Questions :\n",
    "1. Expliquez avec vos propres mots ce que fait cette fonction. \n",
    "2. Implémentez et testez cette fonction en Python.\n",
    "2. Vérifiez la validité sur un petit texte.\n",
    "3. Analysez la complexité théorique (en fonction du nombre de mots).\n",
    "4. Comparez les performances de cette fonction avec la fonction `collections.Counter` ([documentation ici](https://docs.python.org/3/library/collections.html#collections.Counter))."
   ]
  }
 ],
 "metadata": {
  "kernelspec": {
   "display_name": "venv (3.12.7)",
   "language": "python",
   "name": "python3"
  },
  "language_info": {
   "codemirror_mode": {
    "name": "ipython",
    "version": 3
   },
   "file_extension": ".py",
   "mimetype": "text/x-python",
   "name": "python",
   "nbconvert_exporter": "python",
   "pygments_lexer": "ipython3",
   "version": "3.12.7"
  }
 },
 "nbformat": 4,
 "nbformat_minor": 5
}
