{
 "cells": [
  {
   "cell_type": "markdown",
   "id": "3ceb447c",
   "metadata": {},
   "source": [
    "# TP : Tris de liste\n",
    "\n",
    "Le but de ce TP est d'implémenter les différents **algorithmes de tri** vus en CM en Python.\n",
    "\n",
    "Tri étudiés :\n",
    "1. Tri par sélection\n",
    "2. Tri à bulles\n",
    "3. Tri par insertion\n",
    "4. Tri rapide (Quicksort)\n",
    "5. Tri fusion (Merge sort)"
   ]
  },
  {
   "cell_type": "markdown",
   "id": "18ba36a5",
   "metadata": {},
   "source": [
    "## 1. Tri par sélection\n",
    "\n",
    "1. Définir l'entrée et la sortie de l'algorithme.\n",
    "2. Rappelez le principe du tri par sélection.\n",
    "3. Donnez le pseudo-code du tri par sélection.\n",
    "5. Donnez la complexité en temps et en espace de ce tri."
   ]
  },
  {
   "cell_type": "code",
   "execution_count": 1,
   "id": "c92f3fd5",
   "metadata": {},
   "outputs": [],
   "source": [
    "# Code ici"
   ]
  },
  {
   "cell_type": "markdown",
   "id": "be7b6d62",
   "metadata": {},
   "source": [
    "## 2. Tri à bulles\n",
    "\n",
    "1. Définir l'entrée et la sortie de l'algorithme.\n",
    "2. Rappelez le principe du tri bulle.\n",
    "3. Donnez le pseudo-code du tri bulle.\n",
    "5. Donnez la complexité en temps dans le pire cas et dans le cas moyen."
   ]
  },
  {
   "cell_type": "code",
   "execution_count": null,
   "id": "399e8e4f",
   "metadata": {},
   "outputs": [],
   "source": [
    "# Code ici"
   ]
  },
  {
   "cell_type": "markdown",
   "id": "9a278fee",
   "metadata": {},
   "source": [
    "## 3. Tri par insertion\n",
    "\n",
    "1. Définir l'entrée et la sortie de l'algorithme.\n",
    "2. Rappelez le principe du tri par insertion.\n",
    "3. Donnez le pseudo-code du tri par insertion.\n",
    "4. Donnez la complexité en temps dans le pire cas et le cas moyen."
   ]
  },
  {
   "cell_type": "code",
   "execution_count": 3,
   "id": "303a708e",
   "metadata": {},
   "outputs": [],
   "source": [
    "# Code ici"
   ]
  },
  {
   "cell_type": "markdown",
   "id": "a8e8694f",
   "metadata": {},
   "source": [
    "## 4. Tri rapide (Quicksort)\n",
    "\n",
    "\n",
    "1. Définir l'entrée et la sortie de l'algorithme.\n",
    "2. Rappelez le principe du tri rapide.\n",
    "3. Donnez le pseudo-code du tri rapide.\n",
    "4. Donnez la complexité en temps dans le pire cas et le cas moyen."
   ]
  },
  {
   "cell_type": "code",
   "execution_count": null,
   "id": "a157704b",
   "metadata": {},
   "outputs": [],
   "source": [
    "# Code ici"
   ]
  },
  {
   "cell_type": "markdown",
   "id": "a4aeaa56",
   "metadata": {},
   "source": [
    "## 5. Tri fusion (Merge sort)\n",
    "\n",
    "1. Définir l'entrée et la sortie de l'algorithme.\n",
    "2. Rappelez le principe du tri fusion.\n",
    "3. Donnez le pseudo-code du tri fusion.\n",
    "4. Donnez la complexité en temps dans le pire cas et le cas moyen."
   ]
  },
  {
   "cell_type": "code",
   "execution_count": null,
   "id": "4b891988",
   "metadata": {},
   "outputs": [],
   "source": [
    "# Code ici"
   ]
  },
  {
   "cell_type": "markdown",
   "id": "3a30bd12",
   "metadata": {},
   "source": [
    "# Conclusion\n",
    "\n",
    "Réalisez une étude comparative du temps requis par tri à l'aide de la fonction `time` dans les cas suivants."
   ]
  },
  {
   "cell_type": "code",
   "execution_count": 5,
   "id": "12c7bce1",
   "metadata": {},
   "outputs": [],
   "source": [
    "# --- Meilleur cas (déjà trié) ---\n",
    "liste_triee = [1, 2, 3, 4, 5, 6, 7, 8, 9]  \n",
    "\n",
    "# --- Presque triée (juste une inversion) ---\n",
    "liste_presque_triee = [1, 2, 3, 5, 4, 6, 7, 8, 9]\n",
    "\n",
    "# --- Cas moyen (désordre modéré) ---\n",
    "liste_moyenne = [3, 8, 1, 7, 4, 6, 9, 2, 5]\n",
    "\n",
    "# --- Pire cas (ordre décroissant) ---\n",
    "liste_decroissante = [9, 8, 7, 6, 5, 4, 3, 2, 1]\n",
    "\n",
    "# --- Toutes valeurs identiques ---\n",
    "liste_identique = [5, 5, 5, 5, 5, 5, 5, 5, 5]\n",
    "\n",
    "# --- Beaucoup de doublons ---\n",
    "liste_doublons = [1, 2, 2, 2, 3, 3, 4, 4, 5, 5, 5, 6]\n",
    "\n",
    "# --- Tableau presque trié mais avec un gros élément déplacé ---\n",
    "liste_outlier = [1, 2, 3, 4, 5, 100, 6, 7, 8, 9]\n",
    "\n",
    "# --- Cas pathologique pour QuickSort (pivot = premier élément) ---\n",
    "liste_patho_qs = [1, 2, 3, 4, 5, 6, 7, 8, 9]\n",
    "\n"
   ]
  },
  {
   "cell_type": "code",
   "execution_count": 4,
   "metadata": {},
   "outputs": [],
   "source": [
    "# Code ici"
   ]
  }
 ],
 "metadata": {
  "kernelspec": {
   "display_name": "venv (3.12.7)",
   "language": "python",
   "name": "python3"
  },
  "language_info": {
   "codemirror_mode": {
    "name": "ipython",
    "version": 3
   },
   "file_extension": ".py",
   "mimetype": "text/x-python",
   "name": "python",
   "nbconvert_exporter": "python",
   "pygments_lexer": "ipython3",
   "version": "3.12.7"
  }
 },
 "nbformat": 4,
 "nbformat_minor": 5
}
