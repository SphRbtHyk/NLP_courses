{
 "cells": [
  {
   "cell_type": "markdown",
   "id": "f65e2347",
   "metadata": {},
   "source": [
    "# TP : Pseudo-langage et résolutions de problèmes"
   ]
  },
  {
   "cell_type": "markdown",
   "id": "41e8ac65",
   "metadata": {},
   "source": [
    "### Exercice 1\n",
    "Soit le pseudo-code suivant.\n",
    "\n",
    "```\n",
    "Fonction mystere(T, n):\n",
    "    i ← 0\n",
    "    j ← n-1\n",
    "    \n",
    "    Tant que i < j:\n",
    "        tmp ← T[i]\n",
    "        T[i] ← T[j]\n",
    "        T[j] ← tmp\n",
    "        i ← i + 1\n",
    "        j ← j - 1\n",
    "    \n",
    "    Retourner T\n",
    "```\n",
    "\n",
    "1. Que fait la fonction `mystere`?\n",
    "2. Implémentez cette fonction en Python.\n",
    "3. Proposez une deuxième implémentation de cette fonction `mystere2` à l'aide d'une boucle `for`.\n",
    "4. Montrez que `mystere`et `mystere2` retournent la même sortie.\n",
    "5. Quelle est la syntaxe \"pythonique\" pour réaliser ce que fait `mystere` en une ligne?"
   ]
  },
  {
   "cell_type": "markdown",
   "id": "4a021528",
   "metadata": {},
   "source": []
  },
  {
   "cell_type": "markdown",
   "id": "aaad2326",
   "metadata": {},
   "source": [
    "### Exercice 2\n",
    "\n",
    "Soit le pseudo-code suivant.\n",
    "\n",
    "```\n",
    "Fonction mystere(T, n):\n",
    "    Si n <= 1:\n",
    "        Retourner Vrai\n",
    "    \n",
    "    Pour i de 0 à n-2:\n",
    "        Si T[i] > T[i+1]:\n",
    "            Retourner Faux\n",
    "    \n",
    "    Retourner Vrai\n",
    "```\n",
    "\n",
    "1. Que fait la fonction `mystere`?\n",
    "2. Implémentez cette fonction en Python, et trouvez un cas où elle renvoie `True` et un cas où elle renvoie `False`."
   ]
  },
  {
   "cell_type": "code",
   "execution_count": null,
   "id": "6c0a85e2",
   "metadata": {},
   "outputs": [],
   "source": []
  },
  {
   "cell_type": "markdown",
   "id": "b322dd82",
   "metadata": {
    "vscode": {
     "languageId": "plaintext"
    }
   },
   "source": [
    "### Exercice 3\n",
    "\n",
    "1. Créer une fonction `detecter_doublon` qui retourne Vrai si une liste contient des doublons et False si non, en utilisant seulement des `list`.\n",
    "2. Testez cette fonction sur trois cas d'exemples.\n",
    "3. Proposez une implémentation en une ligne à l'aide des objets `set`.\n",
    "4. À l'aide de la fonction `time()` (voir indication plus bas), vérifier en faisant la moyenne sur 100 appels quelle implémentation est la plus efficace.\n",
    "5. Créez deux fonctions `retourner_doublon` qui retournent les doublons d'une liste:\n",
    "\n",
    "    a. En utilisant que des objets listes. Vous pouvez utiliser le mot clé `in` pour vérifier si un élément est présent dans une liste.\n",
    "\n",
    "    b. En utilisant l'objet set."
   ]
  },
  {
   "cell_type": "code",
   "execution_count": 6,
   "id": "1cc91193",
   "metadata": {},
   "outputs": [
    {
     "name": "stdout",
     "output_type": "stream",
     "text": [
      "2.002931833267212\n"
     ]
    }
   ],
   "source": [
    "import time\n",
    "\n",
    "start_time = time.time()\n",
    "time.sleep(2)\n",
    "elapsed_time = time.time() - start_time\n",
    "\n",
    "print(elapsed_time)"
   ]
  },
  {
   "cell_type": "code",
   "execution_count": null,
   "id": "15c2bbcd",
   "metadata": {},
   "outputs": [],
   "source": []
  },
  {
   "cell_type": "markdown",
   "id": "1ffe52f0",
   "metadata": {},
   "source": [
    "### Exercice 4\n",
    "\n",
    "1. Écrire une fonction `intersection_listes(l1, l2)` qui retourne les éléments communs entre deux listes. Vous utiliserez seulement des listes.\n",
    "2. Tester cette fonction sur trois cas différents (avec intersection vide, petite, et complète).\n",
    "3. Donner une implémentation en une ligne utilisant des set.\n",
    "4. Comparer l’efficacité des deux versions avec des listes de tailles croissantes (par exemple de 1000, 10 000 et 100 000 éléments aléatoires, voir les indications plus bas pour générer une liste avec des chiffres aléatoires)."
   ]
  },
  {
   "cell_type": "code",
   "execution_count": 10,
   "id": "138d36ab",
   "metadata": {},
   "outputs": [
    {
     "name": "stdout",
     "output_type": "stream",
     "text": [
      "[0.8509596642943252, 0.6028523643218979, 0.1081442189647045, 0.8188057499384895, 0.2893730650992121, 0.26203957113524845, 0.5789751835098844, 0.39875508207489085, 0.0017581941509435817, 0.9880238883459272]\n"
     ]
    }
   ],
   "source": [
    "import random\n",
    "\n",
    "# Génère une liste de 10 nombres tirés selon une loi uniforme a=0, b=1\n",
    "random_list = [random.uniform(0, 1) for _ in range(0, 10)]\n",
    "print(random_list)"
   ]
  },
  {
   "cell_type": "code",
   "execution_count": null,
   "id": "96152c4e",
   "metadata": {},
   "outputs": [],
   "source": []
  },
  {
   "cell_type": "markdown",
   "id": "02a84c03",
   "metadata": {},
   "source": [
    "### Exercice 5\n",
    "\n",
    "1. Écrire une fonction `est_anagramme(liste_lettres_mot1, liste_lettres_mot2)` qui retourne True si les deux mots sont des anagrammes et False sinon, en utilisant uniquement des listes. `liste_lettres_mot1` contient les lettres du mot 1 qu'il faut analyser (`'toto' -> ['t', 'o', 't', 'o']`)\n",
    "2. Tester la fonction sur trois couples de mots (dont au moins un cas négatif).\n",
    "3. Donner une version plus concise en utilisant sorted() et la comparaison de listes.\n",
    "4. Donner une version encore plus rapide en utilisant les objets dict ou collections.Counter.\n",
    "5. Générer deux mots aléatoires de longueur 1000 (voir indications ci-dessous pour la génération des mots aléatoires), vérifier s’ils sont des anagrammes avec chaque méthode, et comparer les temps moyens sur 100 répétitions."
   ]
  },
  {
   "cell_type": "code",
   "execution_count": 14,
   "id": "1941e34a",
   "metadata": {},
   "outputs": [
    {
     "name": "stdout",
     "output_type": "stream",
     "text": [
      "['b', 'w', 'x', 'y', 'y', 'u', 'y', 'n', 'b', 'y']\n"
     ]
    }
   ],
   "source": [
    "import string\n",
    "\n",
    "# Génère un mot de 10 lettres aléatoires\n",
    "random_word = [random.sample(string.ascii_lowercase, 1)[0] for _ in range(0, 10)]\n",
    "print(random_word)"
   ]
  }
 ],
 "metadata": {
  "kernelspec": {
   "display_name": "venv (3.12.7)",
   "language": "python",
   "name": "python3"
  },
  "language_info": {
   "codemirror_mode": {
    "name": "ipython",
    "version": 3
   },
   "file_extension": ".py",
   "mimetype": "text/x-python",
   "name": "python",
   "nbconvert_exporter": "python",
   "pygments_lexer": "ipython3",
   "version": "3.12.7"
  }
 },
 "nbformat": 4,
 "nbformat_minor": 5
}
