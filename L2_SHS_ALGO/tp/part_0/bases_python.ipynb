{
 "cells": [
  {
   "cell_type": "markdown",
   "metadata": {},
   "source": [
    "# TP : Bases de la syntaxe Python\n",
    "\n",
    "Ce TP est conçu pour apprendre les **bases de Python** à travers des exercices guidés. Chaque section contient des explications et des exercices à réaliser."
   ]
  },
  {
   "cell_type": "code",
   "execution_count": null,
   "metadata": {},
   "outputs": [],
   "source": []
  },
  {
   "cell_type": "markdown",
   "metadata": {},
   "source": [
    "## 0. Indentation et commentaires\n",
    "\n",
    "### Notions\n",
    "- Python utilise l'**indentation** pour définir les blocs de code (pas d'accolades).\n",
    "- Les **commentaires** commencent par `#` et sont ignorés par Python.\n",
    "\n",
    "### Exercices\n",
    "1. Écris un petit programme qui affiche \"Bonjour\" et qui utilise **au moins un niveau d'indentation**.\n",
    "2. Ajoute un **commentaire** expliquant ce que fait ton programme.\n",
    "3. Que se passe-t-il si tu retires l'indentation là où elle est nécessaire ?"
   ]
  },
  {
   "cell_type": "code",
   "execution_count": null,
   "metadata": {},
   "outputs": [],
   "source": []
  },
  {
   "cell_type": "markdown",
   "metadata": {},
   "source": [
    "## 1. Variables et types\n",
    "\n",
    "### Notions\n",
    "- Types de base : int, float, str, bool\n",
    "- Affectation avec `=`\n",
    "- Conversion de types avec `int()`, `float()`, `str()`\n",
    "\n",
    "### Exercices\n",
    "1. Créez une variable `x` égale à 10.\n",
    "2. Créez une variable `y` égale à 3.5.\n",
    "3. Convertissez `y` en entier et affiche le résultat.\n",
    "5. Créez une variable `nom` contenant votre nom et affichez là."
   ]
  },
  {
   "cell_type": "code",
   "execution_count": 1,
   "metadata": {},
   "outputs": [],
   "source": [
    "# Votre code ici"
   ]
  },
  {
   "cell_type": "markdown",
   "metadata": {},
   "source": [
    "## 2. Opérateurs et expressions\n",
    "\n",
    "### Notions\n",
    "- Opérateurs arithmétiques : `+`, `-`, `*`, `/`, `//`, `%`, `**`\n",
    "- Opérateurs logiques : `and`, `or`, `not`\n",
    "- Comparaisons : `==`, `!=`, `<`, `>`, `<=`, `>=`\n",
    "\n",
    "### Exercices\n",
    "1. Calcule et affiche `7 + 3 * 2`.\n",
    "2. Calcule la division entière et le reste de 17 par 5.\n",
    "3. Vérifie si `10` est supérieur à `5` et inférieur à `20`.\n",
    "4. Vérifie si `x` est pair en utilisant le modulo (`%`)."
   ]
  },
  {
   "cell_type": "code",
   "execution_count": null,
   "metadata": {},
   "outputs": [],
   "source": []
  },
  {
   "cell_type": "markdown",
   "metadata": {},
   "source": [
    "## 3. Structures conditionnelles\n",
    "\n",
    "### Notions\n",
    "- `if`, `elif`, `else`\n",
    "- Conditions imbriquées\n",
    "\n",
    "### Exercices\n",
    "1. Écris un programme qui demande un nombre et affiche s'il est positif, négatif ou nul.\n",
    "2. Vérifie si un nombre est divisible par 3 et 5.\n",
    "3. Crée une variable `age` et affiche un message différent selon la tranche d'âge : enfant (<12), ado (12-17), adulte (18-64), senior (>=65)."
   ]
  },
  {
   "cell_type": "code",
   "execution_count": null,
   "metadata": {},
   "outputs": [],
   "source": []
  },
  {
   "cell_type": "markdown",
   "metadata": {},
   "source": [
    "## 4. Boucles\n",
    "\n",
    "### Notions\n",
    "- `for` et `while`\n",
    "- `range()` pour générer des séquences\n",
    "- Instructions `break` et `continue`\n",
    "\n",
    "### Exercices\n",
    "1. Affiche les nombres de 1 à 10 avec une boucle `for`.\n",
    "2. Calcule la somme des nombres de 1 à 100.\n",
    "3. Affiche tous les nombres pairs de 1 à 20.\n",
    "4. Demande à l'utilisateur un mot de passe jusqu'à ce qu'il soit correct (`while`)."
   ]
  },
  {
   "cell_type": "code",
   "execution_count": null,
   "metadata": {},
   "outputs": [],
   "source": []
  },
  {
   "cell_type": "markdown",
   "metadata": {},
   "source": [
    "## 5. Listes et dictionnaires\n",
    "\n",
    "### Notions\n",
    "- Création et manipulation de listes : indexation, slicing, ajout (`append`), suppression (`pop`)\n",
    "- Création et manipulation de dictionnaires : clés, valeurs, ajout, suppression\n",
    "\n",
    "### Exercices\n",
    "1. Crée une liste de 5 nombres et affiche le troisième élément.\n",
    "2. Ajoute un élément à la liste et supprime le premier.\n",
    "3. Crée un dictionnaire avec 3 personnes et leurs âges.\n",
    "4. Modifie l'âge d'une personne et affiche toutes les clés du dictionnaire.\n",
    "5. Parcours la liste ou le dictionnaire avec une boucle et affiche les éléments."
   ]
  },
  {
   "cell_type": "code",
   "execution_count": null,
   "metadata": {},
   "outputs": [],
   "source": []
  },
  {
   "cell_type": "markdown",
   "metadata": {},
   "source": [
    "## 6. Fonctions\n",
    "\n",
    "### Notions\n",
    "- Définir une fonction avec `def`\n",
    "- Arguments, valeurs de retour\n",
    "- Portée des variables\n",
    "\n",
    "### Exercices\n",
    "1. Écris une fonction `carre` qui renvoie le carré d'un nombre.\n",
    "2. Écris une fonction `somme_liste` qui prend une liste et renvoie la somme de ses éléments.\n",
    "3. Crée une fonction `plus_grand` qui prend deux nombres et renvoie le plus grand.\n",
    "4. Crée une fonction `est_pair` qui retourne True si un nombre est pair, sinon False."
   ]
  },
  {
   "cell_type": "code",
   "execution_count": null,
   "metadata": {},
   "outputs": [],
   "source": []
  },
  {
   "cell_type": "markdown",
   "metadata": {},
   "source": [
    "## 7. Exercices combinés\n",
    "\n",
    "1. Demande à l'utilisateur 5 nombres et stocke-les dans une liste. Affiche la somme et la moyenne.\n",
    "2. Demande un mot à l'utilisateur et indique si c'est un palindrome.\n",
    "3. Crée un dictionnaire de notes pour 5 étudiants et affiche le nom de l'étudiant avec la meilleure note.\n",
    "4. Écris une fonction qui prend une liste de nombres et renvoie une nouvelle liste avec seulement les nombres pairs."
   ]
  },
  {
   "cell_type": "code",
   "execution_count": null,
   "metadata": {},
   "outputs": [],
   "source": []
  }
 ],
 "metadata": {
  "kernelspec": {
   "display_name": "venv (3.12.7)",
   "language": "python",
   "name": "python3"
  },
  "language_info": {
   "codemirror_mode": {
    "name": "ipython",
    "version": 3
   },
   "file_extension": ".py",
   "mimetype": "text/x-python",
   "name": "python",
   "nbconvert_exporter": "python",
   "pygments_lexer": "ipython3",
   "version": "3.12.7"
  }
 },
 "nbformat": 4,
 "nbformat_minor": 5
}
