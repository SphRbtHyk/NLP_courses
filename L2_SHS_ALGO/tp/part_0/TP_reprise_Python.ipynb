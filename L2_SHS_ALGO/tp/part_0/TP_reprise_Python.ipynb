{
 "cells": [
  {
   "cell_type": "markdown",
   "id": "3dc42a2b",
   "metadata": {},
   "source": [
    "# 🐍 TP de reprise en Python\n",
    "\n",
    "Ce TP est divisé en **3 séances de 2h**. Il est conçu pour des débutants (ou faux-débutants) et permet de revoir progressivement les bases de Python."
   ]
  },
  {
   "cell_type": "markdown",
   "id": "9ea68e1c",
   "metadata": {},
   "source": [
    "## Séance 1 – Bases de Python (2h)\n",
    "🎯 **Objectifs** : Variables, conditions, boucles, listes.\n"
   ]
  },
  {
   "cell_type": "markdown",
   "id": "1b5116a3",
   "metadata": {},
   "source": [
    "### 1. Variables et Types"
   ]
  },
  {
   "cell_type": "code",
   "execution_count": null,
   "id": "3cb16455",
   "metadata": {},
   "outputs": [],
   "source": [
    "# Exemple\n",
    "nom = input('Quel est ton prénom ? ')\n",
    "age = int(input('Quel est ton âge ? '))\n",
    "print(f'Bonjour {nom}, tu as {age} ans.')"
   ]
  },
  {
   "cell_type": "markdown",
   "id": "89b8df09",
   "metadata": {},
   "source": [
    "**Exercice :** Demandez à l’utilisateur deux nombres et affichez leur somme."
   ]
  },
  {
   "cell_type": "markdown",
   "id": "da76e681",
   "metadata": {},
   "source": [
    "### 2. Conditions"
   ]
  },
  {
   "cell_type": "code",
   "execution_count": null,
   "id": "7896a386",
   "metadata": {},
   "outputs": [],
   "source": [
    "# Exemple simple\n",
    "a = 10\n",
    "if a > 5:\n",
    "    print('a est grand')\n",
    "else:\n",
    "    print('a est petit')"
   ]
  },
  {
   "cell_type": "markdown",
   "id": "32a74f60",
   "metadata": {},
   "source": [
    "**Exercice :** Devinez le nombre secret (entre 1 et 10). Affichez un message si trop petit ou trop grand."
   ]
  },
  {
   "cell_type": "markdown",
   "id": "a692852c",
   "metadata": {},
   "source": [
    "### 3. Boucles"
   ]
  },
  {
   "cell_type": "code",
   "execution_count": null,
   "id": "d34612a1",
   "metadata": {},
   "outputs": [],
   "source": [
    "# Exemple avec for\n",
    "for i in range(5):\n",
    "    print(i)"
   ]
  },
  {
   "cell_type": "markdown",
   "id": "1e1e6aa9",
   "metadata": {},
   "source": [
    "**Exercice :** Affichez les nombres pairs de 0 à 20."
   ]
  },
  {
   "cell_type": "markdown",
   "id": "88e9f4f2",
   "metadata": {},
   "source": [
    "### 4. Listes"
   ]
  },
  {
   "cell_type": "code",
   "execution_count": null,
   "id": "c255e863",
   "metadata": {},
   "outputs": [],
   "source": [
    "# Exemple\n",
    "prenoms = ['Alice', 'Bob', 'Charlie']\n",
    "for p in prenoms:\n",
    "    print(p.upper())"
   ]
  },
  {
   "cell_type": "markdown",
   "id": "cdd2de60",
   "metadata": {},
   "source": [
    "**Exercice :** Ajoutez un prénom à la liste et affichez la liste complète."
   ]
  },
  {
   "cell_type": "markdown",
   "id": "1aa02b8d",
   "metadata": {},
   "source": [
    "## Séance 2 – Fonctions et Structures (2h)\n",
    "🎯 **Objectifs** : Fonctions, listes avancées, dictionnaires.\n"
   ]
  },
  {
   "cell_type": "markdown",
   "id": "db2c46fd",
   "metadata": {},
   "source": [
    "### 1. Fonctions"
   ]
  },
  {
   "cell_type": "code",
   "execution_count": null,
   "id": "2821746f",
   "metadata": {},
   "outputs": [],
   "source": [
    "# Exemple\n",
    "def aire_rectangle(longueur, largeur):\n",
    "    return longueur * largeur\n",
    "\n",
    "print(aire_rectangle(3, 4))"
   ]
  },
  {
   "cell_type": "markdown",
   "id": "5833aad5",
   "metadata": {},
   "source": [
    "**Exercice :** Écrire une fonction qui compte le nombre de voyelles dans une chaîne."
   ]
  },
  {
   "cell_type": "markdown",
   "id": "1939d56f",
   "metadata": {},
   "source": [
    "### 2. Listes (approfondissement)"
   ]
  },
  {
   "cell_type": "code",
   "execution_count": null,
   "id": "8f995d5d",
   "metadata": {},
   "outputs": [],
   "source": [
    "nombres = [5, 2, 9, 1]\n",
    "nombres.sort()\n",
    "print(nombres)"
   ]
  },
  {
   "cell_type": "markdown",
   "id": "342e537e",
   "metadata": {},
   "source": [
    "**Exercice :** Trouvez le minimum et maximum d’une liste sans utiliser `min()` ni `max()`."
   ]
  },
  {
   "cell_type": "markdown",
   "id": "98374d02",
   "metadata": {},
   "source": [
    "### 3. Dictionnaires"
   ]
  },
  {
   "cell_type": "code",
   "execution_count": null,
   "id": "01b66137",
   "metadata": {},
   "outputs": [],
   "source": [
    "# Exemple\n",
    "d = {'Alice': 15, 'Bob': 12}\n",
    "print(d['Alice'])"
   ]
  },
  {
   "cell_type": "markdown",
   "id": "c4ccab70",
   "metadata": {},
   "source": [
    "**Exercice :** Créez un dictionnaire `notes` avec 3 élèves et affichez la moyenne des notes."
   ]
  },
  {
   "cell_type": "markdown",
   "id": "6cf59937",
   "metadata": {},
   "source": [
    "### 4. Mini-projet : Pendu simplifié"
   ]
  },
  {
   "cell_type": "markdown",
   "id": "8de0d291",
   "metadata": {},
   "source": [
    "**But :** L’utilisateur devine un mot lettre par lettre. Afficher l’état du mot avec `_` pour les lettres non trouvées."
   ]
  },
  {
   "cell_type": "markdown",
   "id": "064504fa",
   "metadata": {},
   "source": [
    "## Séance 3 – Projets pratiques (2h)\n",
    "🎯 **Objectifs** : Mise en pratique complète.\n"
   ]
  },
  {
   "cell_type": "markdown",
   "id": "a8064f23",
   "metadata": {},
   "source": [
    "### 1. Révisions rapides\n",
    "Mini-QCM ou rappel sur les boucles, conditions, fonctions."
   ]
  },
  {
   "cell_type": "markdown",
   "id": "1756fab6",
   "metadata": {},
   "source": [
    "### 2. Algorithmes simples"
   ]
  },
  {
   "cell_type": "code",
   "execution_count": null,
   "id": "49800b4f",
   "metadata": {},
   "outputs": [],
   "source": [
    "# Exemple : somme des nombres pairs\n",
    "def somme_pairs(liste):\n",
    "    s = 0\n",
    "    for x in liste:\n",
    "        if x % 2 == 0:\n",
    "            s += x\n",
    "    return s\n",
    "\n",
    "print(somme_pairs([1,2,3,4,5,6]))"
   ]
  },
  {
   "cell_type": "markdown",
   "id": "48b752fe",
   "metadata": {},
   "source": [
    "**Exercice :** Écrire une fonction qui compte les occurrences de chaque mot dans une phrase."
   ]
  },
  {
   "cell_type": "markdown",
   "id": "16bb5617",
   "metadata": {},
   "source": [
    "### 3. Projet guidé : Gestion de contacts"
   ]
  },
  {
   "cell_type": "markdown",
   "id": "4fb59266",
   "metadata": {},
   "source": [
    "\n",
    "**Objectif :** Créer un petit programme pour gérer un carnet de contacts :\n",
    "- Ajouter un contact (nom → téléphone)\n",
    "- Rechercher un contact\n",
    "- Supprimer un contact\n",
    "- Afficher tous les contacts\n",
    "\n",
    "**Bonus :**\n",
    "- Trier les contacts par ordre alphabétique\n",
    "- Sauvegarder les contacts dans un fichier\n",
    "- Menu interactif avec `while`\n"
   ]
  }
 ],
 "metadata": {},
 "nbformat": 4,
 "nbformat_minor": 5
}
